{
  "nbformat": 4,
  "nbformat_minor": 0,
  "metadata": {
    "colab": {
      "provenance": []
    },
    "kernelspec": {
      "name": "python3",
      "display_name": "Python 3"
    },
    "language_info": {
      "name": "python"
    },
    "widgets": {
      "application/vnd.jupyter.widget-state+json": {
        "255819e9abfd4053a1b6a73ff161b917": {
          "model_module": "@jupyter-widgets/controls",
          "model_name": "HBoxModel",
          "model_module_version": "1.5.0",
          "state": {
            "_dom_classes": [],
            "_model_module": "@jupyter-widgets/controls",
            "_model_module_version": "1.5.0",
            "_model_name": "HBoxModel",
            "_view_count": null,
            "_view_module": "@jupyter-widgets/controls",
            "_view_module_version": "1.5.0",
            "_view_name": "HBoxView",
            "box_style": "",
            "children": [
              "IPY_MODEL_c56aa87b432947cfb1e283ca6c18c341",
              "IPY_MODEL_2b28c6803bff49d4b54594bd47179a6e",
              "IPY_MODEL_e612c63b4c6e41cdab854a85fd47d39f"
            ],
            "layout": "IPY_MODEL_1bcfa48e6c4f40a6a500cf574613344e"
          }
        },
        "c56aa87b432947cfb1e283ca6c18c341": {
          "model_module": "@jupyter-widgets/controls",
          "model_name": "HTMLModel",
          "model_module_version": "1.5.0",
          "state": {
            "_dom_classes": [],
            "_model_module": "@jupyter-widgets/controls",
            "_model_module_version": "1.5.0",
            "_model_name": "HTMLModel",
            "_view_count": null,
            "_view_module": "@jupyter-widgets/controls",
            "_view_module_version": "1.5.0",
            "_view_name": "HTMLView",
            "description": "",
            "description_tooltip": null,
            "layout": "IPY_MODEL_867b5c6aa018462a9fc42925248abbf5",
            "placeholder": "​",
            "style": "IPY_MODEL_67793d916a3940c09e5a336ca332cd10",
            "value": "Summarize dataset: 100%"
          }
        },
        "2b28c6803bff49d4b54594bd47179a6e": {
          "model_module": "@jupyter-widgets/controls",
          "model_name": "FloatProgressModel",
          "model_module_version": "1.5.0",
          "state": {
            "_dom_classes": [],
            "_model_module": "@jupyter-widgets/controls",
            "_model_module_version": "1.5.0",
            "_model_name": "FloatProgressModel",
            "_view_count": null,
            "_view_module": "@jupyter-widgets/controls",
            "_view_module_version": "1.5.0",
            "_view_name": "ProgressView",
            "bar_style": "success",
            "description": "",
            "description_tooltip": null,
            "layout": "IPY_MODEL_1c8d466ae0e34b6c95dd5588d6b2f3e6",
            "max": 5,
            "min": 0,
            "orientation": "horizontal",
            "style": "IPY_MODEL_5384f847efeb49e481b966a16b2ce12d",
            "value": 5
          }
        },
        "e612c63b4c6e41cdab854a85fd47d39f": {
          "model_module": "@jupyter-widgets/controls",
          "model_name": "HTMLModel",
          "model_module_version": "1.5.0",
          "state": {
            "_dom_classes": [],
            "_model_module": "@jupyter-widgets/controls",
            "_model_module_version": "1.5.0",
            "_model_name": "HTMLModel",
            "_view_count": null,
            "_view_module": "@jupyter-widgets/controls",
            "_view_module_version": "1.5.0",
            "_view_name": "HTMLView",
            "description": "",
            "description_tooltip": null,
            "layout": "IPY_MODEL_68cfd8f9f95a4c9d8dc77503a7af5af1",
            "placeholder": "​",
            "style": "IPY_MODEL_5fd0940a328b4e5b92f1f967d356443c",
            "value": " 18/18 [00:00&lt;00:00, 14.10it/s, Completed]"
          }
        },
        "1bcfa48e6c4f40a6a500cf574613344e": {
          "model_module": "@jupyter-widgets/base",
          "model_name": "LayoutModel",
          "model_module_version": "1.2.0",
          "state": {
            "_model_module": "@jupyter-widgets/base",
            "_model_module_version": "1.2.0",
            "_model_name": "LayoutModel",
            "_view_count": null,
            "_view_module": "@jupyter-widgets/base",
            "_view_module_version": "1.2.0",
            "_view_name": "LayoutView",
            "align_content": null,
            "align_items": null,
            "align_self": null,
            "border": null,
            "bottom": null,
            "display": null,
            "flex": null,
            "flex_flow": null,
            "grid_area": null,
            "grid_auto_columns": null,
            "grid_auto_flow": null,
            "grid_auto_rows": null,
            "grid_column": null,
            "grid_gap": null,
            "grid_row": null,
            "grid_template_areas": null,
            "grid_template_columns": null,
            "grid_template_rows": null,
            "height": null,
            "justify_content": null,
            "justify_items": null,
            "left": null,
            "margin": null,
            "max_height": null,
            "max_width": null,
            "min_height": null,
            "min_width": null,
            "object_fit": null,
            "object_position": null,
            "order": null,
            "overflow": null,
            "overflow_x": null,
            "overflow_y": null,
            "padding": null,
            "right": null,
            "top": null,
            "visibility": null,
            "width": null
          }
        },
        "867b5c6aa018462a9fc42925248abbf5": {
          "model_module": "@jupyter-widgets/base",
          "model_name": "LayoutModel",
          "model_module_version": "1.2.0",
          "state": {
            "_model_module": "@jupyter-widgets/base",
            "_model_module_version": "1.2.0",
            "_model_name": "LayoutModel",
            "_view_count": null,
            "_view_module": "@jupyter-widgets/base",
            "_view_module_version": "1.2.0",
            "_view_name": "LayoutView",
            "align_content": null,
            "align_items": null,
            "align_self": null,
            "border": null,
            "bottom": null,
            "display": null,
            "flex": null,
            "flex_flow": null,
            "grid_area": null,
            "grid_auto_columns": null,
            "grid_auto_flow": null,
            "grid_auto_rows": null,
            "grid_column": null,
            "grid_gap": null,
            "grid_row": null,
            "grid_template_areas": null,
            "grid_template_columns": null,
            "grid_template_rows": null,
            "height": null,
            "justify_content": null,
            "justify_items": null,
            "left": null,
            "margin": null,
            "max_height": null,
            "max_width": null,
            "min_height": null,
            "min_width": null,
            "object_fit": null,
            "object_position": null,
            "order": null,
            "overflow": null,
            "overflow_x": null,
            "overflow_y": null,
            "padding": null,
            "right": null,
            "top": null,
            "visibility": null,
            "width": null
          }
        },
        "67793d916a3940c09e5a336ca332cd10": {
          "model_module": "@jupyter-widgets/controls",
          "model_name": "DescriptionStyleModel",
          "model_module_version": "1.5.0",
          "state": {
            "_model_module": "@jupyter-widgets/controls",
            "_model_module_version": "1.5.0",
            "_model_name": "DescriptionStyleModel",
            "_view_count": null,
            "_view_module": "@jupyter-widgets/base",
            "_view_module_version": "1.2.0",
            "_view_name": "StyleView",
            "description_width": ""
          }
        },
        "1c8d466ae0e34b6c95dd5588d6b2f3e6": {
          "model_module": "@jupyter-widgets/base",
          "model_name": "LayoutModel",
          "model_module_version": "1.2.0",
          "state": {
            "_model_module": "@jupyter-widgets/base",
            "_model_module_version": "1.2.0",
            "_model_name": "LayoutModel",
            "_view_count": null,
            "_view_module": "@jupyter-widgets/base",
            "_view_module_version": "1.2.0",
            "_view_name": "LayoutView",
            "align_content": null,
            "align_items": null,
            "align_self": null,
            "border": null,
            "bottom": null,
            "display": null,
            "flex": null,
            "flex_flow": null,
            "grid_area": null,
            "grid_auto_columns": null,
            "grid_auto_flow": null,
            "grid_auto_rows": null,
            "grid_column": null,
            "grid_gap": null,
            "grid_row": null,
            "grid_template_areas": null,
            "grid_template_columns": null,
            "grid_template_rows": null,
            "height": null,
            "justify_content": null,
            "justify_items": null,
            "left": null,
            "margin": null,
            "max_height": null,
            "max_width": null,
            "min_height": null,
            "min_width": null,
            "object_fit": null,
            "object_position": null,
            "order": null,
            "overflow": null,
            "overflow_x": null,
            "overflow_y": null,
            "padding": null,
            "right": null,
            "top": null,
            "visibility": null,
            "width": null
          }
        },
        "5384f847efeb49e481b966a16b2ce12d": {
          "model_module": "@jupyter-widgets/controls",
          "model_name": "ProgressStyleModel",
          "model_module_version": "1.5.0",
          "state": {
            "_model_module": "@jupyter-widgets/controls",
            "_model_module_version": "1.5.0",
            "_model_name": "ProgressStyleModel",
            "_view_count": null,
            "_view_module": "@jupyter-widgets/base",
            "_view_module_version": "1.2.0",
            "_view_name": "StyleView",
            "bar_color": null,
            "description_width": ""
          }
        },
        "68cfd8f9f95a4c9d8dc77503a7af5af1": {
          "model_module": "@jupyter-widgets/base",
          "model_name": "LayoutModel",
          "model_module_version": "1.2.0",
          "state": {
            "_model_module": "@jupyter-widgets/base",
            "_model_module_version": "1.2.0",
            "_model_name": "LayoutModel",
            "_view_count": null,
            "_view_module": "@jupyter-widgets/base",
            "_view_module_version": "1.2.0",
            "_view_name": "LayoutView",
            "align_content": null,
            "align_items": null,
            "align_self": null,
            "border": null,
            "bottom": null,
            "display": null,
            "flex": null,
            "flex_flow": null,
            "grid_area": null,
            "grid_auto_columns": null,
            "grid_auto_flow": null,
            "grid_auto_rows": null,
            "grid_column": null,
            "grid_gap": null,
            "grid_row": null,
            "grid_template_areas": null,
            "grid_template_columns": null,
            "grid_template_rows": null,
            "height": null,
            "justify_content": null,
            "justify_items": null,
            "left": null,
            "margin": null,
            "max_height": null,
            "max_width": null,
            "min_height": null,
            "min_width": null,
            "object_fit": null,
            "object_position": null,
            "order": null,
            "overflow": null,
            "overflow_x": null,
            "overflow_y": null,
            "padding": null,
            "right": null,
            "top": null,
            "visibility": null,
            "width": null
          }
        },
        "5fd0940a328b4e5b92f1f967d356443c": {
          "model_module": "@jupyter-widgets/controls",
          "model_name": "DescriptionStyleModel",
          "model_module_version": "1.5.0",
          "state": {
            "_model_module": "@jupyter-widgets/controls",
            "_model_module_version": "1.5.0",
            "_model_name": "DescriptionStyleModel",
            "_view_count": null,
            "_view_module": "@jupyter-widgets/base",
            "_view_module_version": "1.2.0",
            "_view_name": "StyleView",
            "description_width": ""
          }
        },
        "ed9e3708353a4977b4db9d23c428cfef": {
          "model_module": "@jupyter-widgets/controls",
          "model_name": "HBoxModel",
          "model_module_version": "1.5.0",
          "state": {
            "_dom_classes": [],
            "_model_module": "@jupyter-widgets/controls",
            "_model_module_version": "1.5.0",
            "_model_name": "HBoxModel",
            "_view_count": null,
            "_view_module": "@jupyter-widgets/controls",
            "_view_module_version": "1.5.0",
            "_view_name": "HBoxView",
            "box_style": "",
            "children": [
              "IPY_MODEL_2362f581080a4c54ae9fed2103141d13",
              "IPY_MODEL_a92cb55d91ab4793a85c923a5ef71595",
              "IPY_MODEL_31750ccef4fd4d1e9975baa6b20078d6"
            ],
            "layout": "IPY_MODEL_0e078eb011c34a0a870fca2c26ae1cdd"
          }
        },
        "2362f581080a4c54ae9fed2103141d13": {
          "model_module": "@jupyter-widgets/controls",
          "model_name": "HTMLModel",
          "model_module_version": "1.5.0",
          "state": {
            "_dom_classes": [],
            "_model_module": "@jupyter-widgets/controls",
            "_model_module_version": "1.5.0",
            "_model_name": "HTMLModel",
            "_view_count": null,
            "_view_module": "@jupyter-widgets/controls",
            "_view_module_version": "1.5.0",
            "_view_name": "HTMLView",
            "description": "",
            "description_tooltip": null,
            "layout": "IPY_MODEL_d039b170243e4d9d8f4c5c62f23da027",
            "placeholder": "​",
            "style": "IPY_MODEL_4cc7ebc9120f4898a6f7063bb59694e4",
            "value": "Generate report structure: 100%"
          }
        },
        "a92cb55d91ab4793a85c923a5ef71595": {
          "model_module": "@jupyter-widgets/controls",
          "model_name": "FloatProgressModel",
          "model_module_version": "1.5.0",
          "state": {
            "_dom_classes": [],
            "_model_module": "@jupyter-widgets/controls",
            "_model_module_version": "1.5.0",
            "_model_name": "FloatProgressModel",
            "_view_count": null,
            "_view_module": "@jupyter-widgets/controls",
            "_view_module_version": "1.5.0",
            "_view_name": "ProgressView",
            "bar_style": "success",
            "description": "",
            "description_tooltip": null,
            "layout": "IPY_MODEL_24c9ed93f15f4280b1251db10dd0db8c",
            "max": 1,
            "min": 0,
            "orientation": "horizontal",
            "style": "IPY_MODEL_04c922a19037438f8b473649dcc13b24",
            "value": 1
          }
        },
        "31750ccef4fd4d1e9975baa6b20078d6": {
          "model_module": "@jupyter-widgets/controls",
          "model_name": "HTMLModel",
          "model_module_version": "1.5.0",
          "state": {
            "_dom_classes": [],
            "_model_module": "@jupyter-widgets/controls",
            "_model_module_version": "1.5.0",
            "_model_name": "HTMLModel",
            "_view_count": null,
            "_view_module": "@jupyter-widgets/controls",
            "_view_module_version": "1.5.0",
            "_view_name": "HTMLView",
            "description": "",
            "description_tooltip": null,
            "layout": "IPY_MODEL_78214bf0c8ac455e8fbcdd56849931ea",
            "placeholder": "​",
            "style": "IPY_MODEL_1985718880ad43c6875b9a2bf9f2002e",
            "value": " 1/1 [00:05&lt;00:00,  5.98s/it]"
          }
        },
        "0e078eb011c34a0a870fca2c26ae1cdd": {
          "model_module": "@jupyter-widgets/base",
          "model_name": "LayoutModel",
          "model_module_version": "1.2.0",
          "state": {
            "_model_module": "@jupyter-widgets/base",
            "_model_module_version": "1.2.0",
            "_model_name": "LayoutModel",
            "_view_count": null,
            "_view_module": "@jupyter-widgets/base",
            "_view_module_version": "1.2.0",
            "_view_name": "LayoutView",
            "align_content": null,
            "align_items": null,
            "align_self": null,
            "border": null,
            "bottom": null,
            "display": null,
            "flex": null,
            "flex_flow": null,
            "grid_area": null,
            "grid_auto_columns": null,
            "grid_auto_flow": null,
            "grid_auto_rows": null,
            "grid_column": null,
            "grid_gap": null,
            "grid_row": null,
            "grid_template_areas": null,
            "grid_template_columns": null,
            "grid_template_rows": null,
            "height": null,
            "justify_content": null,
            "justify_items": null,
            "left": null,
            "margin": null,
            "max_height": null,
            "max_width": null,
            "min_height": null,
            "min_width": null,
            "object_fit": null,
            "object_position": null,
            "order": null,
            "overflow": null,
            "overflow_x": null,
            "overflow_y": null,
            "padding": null,
            "right": null,
            "top": null,
            "visibility": null,
            "width": null
          }
        },
        "d039b170243e4d9d8f4c5c62f23da027": {
          "model_module": "@jupyter-widgets/base",
          "model_name": "LayoutModel",
          "model_module_version": "1.2.0",
          "state": {
            "_model_module": "@jupyter-widgets/base",
            "_model_module_version": "1.2.0",
            "_model_name": "LayoutModel",
            "_view_count": null,
            "_view_module": "@jupyter-widgets/base",
            "_view_module_version": "1.2.0",
            "_view_name": "LayoutView",
            "align_content": null,
            "align_items": null,
            "align_self": null,
            "border": null,
            "bottom": null,
            "display": null,
            "flex": null,
            "flex_flow": null,
            "grid_area": null,
            "grid_auto_columns": null,
            "grid_auto_flow": null,
            "grid_auto_rows": null,
            "grid_column": null,
            "grid_gap": null,
            "grid_row": null,
            "grid_template_areas": null,
            "grid_template_columns": null,
            "grid_template_rows": null,
            "height": null,
            "justify_content": null,
            "justify_items": null,
            "left": null,
            "margin": null,
            "max_height": null,
            "max_width": null,
            "min_height": null,
            "min_width": null,
            "object_fit": null,
            "object_position": null,
            "order": null,
            "overflow": null,
            "overflow_x": null,
            "overflow_y": null,
            "padding": null,
            "right": null,
            "top": null,
            "visibility": null,
            "width": null
          }
        },
        "4cc7ebc9120f4898a6f7063bb59694e4": {
          "model_module": "@jupyter-widgets/controls",
          "model_name": "DescriptionStyleModel",
          "model_module_version": "1.5.0",
          "state": {
            "_model_module": "@jupyter-widgets/controls",
            "_model_module_version": "1.5.0",
            "_model_name": "DescriptionStyleModel",
            "_view_count": null,
            "_view_module": "@jupyter-widgets/base",
            "_view_module_version": "1.2.0",
            "_view_name": "StyleView",
            "description_width": ""
          }
        },
        "24c9ed93f15f4280b1251db10dd0db8c": {
          "model_module": "@jupyter-widgets/base",
          "model_name": "LayoutModel",
          "model_module_version": "1.2.0",
          "state": {
            "_model_module": "@jupyter-widgets/base",
            "_model_module_version": "1.2.0",
            "_model_name": "LayoutModel",
            "_view_count": null,
            "_view_module": "@jupyter-widgets/base",
            "_view_module_version": "1.2.0",
            "_view_name": "LayoutView",
            "align_content": null,
            "align_items": null,
            "align_self": null,
            "border": null,
            "bottom": null,
            "display": null,
            "flex": null,
            "flex_flow": null,
            "grid_area": null,
            "grid_auto_columns": null,
            "grid_auto_flow": null,
            "grid_auto_rows": null,
            "grid_column": null,
            "grid_gap": null,
            "grid_row": null,
            "grid_template_areas": null,
            "grid_template_columns": null,
            "grid_template_rows": null,
            "height": null,
            "justify_content": null,
            "justify_items": null,
            "left": null,
            "margin": null,
            "max_height": null,
            "max_width": null,
            "min_height": null,
            "min_width": null,
            "object_fit": null,
            "object_position": null,
            "order": null,
            "overflow": null,
            "overflow_x": null,
            "overflow_y": null,
            "padding": null,
            "right": null,
            "top": null,
            "visibility": null,
            "width": null
          }
        },
        "04c922a19037438f8b473649dcc13b24": {
          "model_module": "@jupyter-widgets/controls",
          "model_name": "ProgressStyleModel",
          "model_module_version": "1.5.0",
          "state": {
            "_model_module": "@jupyter-widgets/controls",
            "_model_module_version": "1.5.0",
            "_model_name": "ProgressStyleModel",
            "_view_count": null,
            "_view_module": "@jupyter-widgets/base",
            "_view_module_version": "1.2.0",
            "_view_name": "StyleView",
            "bar_color": null,
            "description_width": ""
          }
        },
        "78214bf0c8ac455e8fbcdd56849931ea": {
          "model_module": "@jupyter-widgets/base",
          "model_name": "LayoutModel",
          "model_module_version": "1.2.0",
          "state": {
            "_model_module": "@jupyter-widgets/base",
            "_model_module_version": "1.2.0",
            "_model_name": "LayoutModel",
            "_view_count": null,
            "_view_module": "@jupyter-widgets/base",
            "_view_module_version": "1.2.0",
            "_view_name": "LayoutView",
            "align_content": null,
            "align_items": null,
            "align_self": null,
            "border": null,
            "bottom": null,
            "display": null,
            "flex": null,
            "flex_flow": null,
            "grid_area": null,
            "grid_auto_columns": null,
            "grid_auto_flow": null,
            "grid_auto_rows": null,
            "grid_column": null,
            "grid_gap": null,
            "grid_row": null,
            "grid_template_areas": null,
            "grid_template_columns": null,
            "grid_template_rows": null,
            "height": null,
            "justify_content": null,
            "justify_items": null,
            "left": null,
            "margin": null,
            "max_height": null,
            "max_width": null,
            "min_height": null,
            "min_width": null,
            "object_fit": null,
            "object_position": null,
            "order": null,
            "overflow": null,
            "overflow_x": null,
            "overflow_y": null,
            "padding": null,
            "right": null,
            "top": null,
            "visibility": null,
            "width": null
          }
        },
        "1985718880ad43c6875b9a2bf9f2002e": {
          "model_module": "@jupyter-widgets/controls",
          "model_name": "DescriptionStyleModel",
          "model_module_version": "1.5.0",
          "state": {
            "_model_module": "@jupyter-widgets/controls",
            "_model_module_version": "1.5.0",
            "_model_name": "DescriptionStyleModel",
            "_view_count": null,
            "_view_module": "@jupyter-widgets/base",
            "_view_module_version": "1.2.0",
            "_view_name": "StyleView",
            "description_width": ""
          }
        },
        "d5e620aa54ee4d13ad0b213cf976b56d": {
          "model_module": "@jupyter-widgets/controls",
          "model_name": "HBoxModel",
          "model_module_version": "1.5.0",
          "state": {
            "_dom_classes": [],
            "_model_module": "@jupyter-widgets/controls",
            "_model_module_version": "1.5.0",
            "_model_name": "HBoxModel",
            "_view_count": null,
            "_view_module": "@jupyter-widgets/controls",
            "_view_module_version": "1.5.0",
            "_view_name": "HBoxView",
            "box_style": "",
            "children": [
              "IPY_MODEL_532ee95172a24bcb91c621cb3ee5d560",
              "IPY_MODEL_00269133e94e4dc6a0d9a1d640f567b9",
              "IPY_MODEL_13f077b7134d494ca24aa354be559169"
            ],
            "layout": "IPY_MODEL_f2c67da2f06f4734b847bdd30b4fad2f"
          }
        },
        "532ee95172a24bcb91c621cb3ee5d560": {
          "model_module": "@jupyter-widgets/controls",
          "model_name": "HTMLModel",
          "model_module_version": "1.5.0",
          "state": {
            "_dom_classes": [],
            "_model_module": "@jupyter-widgets/controls",
            "_model_module_version": "1.5.0",
            "_model_name": "HTMLModel",
            "_view_count": null,
            "_view_module": "@jupyter-widgets/controls",
            "_view_module_version": "1.5.0",
            "_view_name": "HTMLView",
            "description": "",
            "description_tooltip": null,
            "layout": "IPY_MODEL_bdff2ebcbf484a2980151d9172ac16ca",
            "placeholder": "​",
            "style": "IPY_MODEL_853acb99ee2a4ac094fe4644e36c0021",
            "value": "Render HTML: 100%"
          }
        },
        "00269133e94e4dc6a0d9a1d640f567b9": {
          "model_module": "@jupyter-widgets/controls",
          "model_name": "FloatProgressModel",
          "model_module_version": "1.5.0",
          "state": {
            "_dom_classes": [],
            "_model_module": "@jupyter-widgets/controls",
            "_model_module_version": "1.5.0",
            "_model_name": "FloatProgressModel",
            "_view_count": null,
            "_view_module": "@jupyter-widgets/controls",
            "_view_module_version": "1.5.0",
            "_view_name": "ProgressView",
            "bar_style": "success",
            "description": "",
            "description_tooltip": null,
            "layout": "IPY_MODEL_86769254069c46c98428ae65120de09b",
            "max": 1,
            "min": 0,
            "orientation": "horizontal",
            "style": "IPY_MODEL_f34172c2c2e348ae966d73d4844834c4",
            "value": 1
          }
        },
        "13f077b7134d494ca24aa354be559169": {
          "model_module": "@jupyter-widgets/controls",
          "model_name": "HTMLModel",
          "model_module_version": "1.5.0",
          "state": {
            "_dom_classes": [],
            "_model_module": "@jupyter-widgets/controls",
            "_model_module_version": "1.5.0",
            "_model_name": "HTMLModel",
            "_view_count": null,
            "_view_module": "@jupyter-widgets/controls",
            "_view_module_version": "1.5.0",
            "_view_name": "HTMLView",
            "description": "",
            "description_tooltip": null,
            "layout": "IPY_MODEL_005a28407b914b668df49ff91c43e41a",
            "placeholder": "​",
            "style": "IPY_MODEL_ba16099895524629834e80b9d5f75d48",
            "value": " 1/1 [00:00&lt;00:00,  2.27it/s]"
          }
        },
        "f2c67da2f06f4734b847bdd30b4fad2f": {
          "model_module": "@jupyter-widgets/base",
          "model_name": "LayoutModel",
          "model_module_version": "1.2.0",
          "state": {
            "_model_module": "@jupyter-widgets/base",
            "_model_module_version": "1.2.0",
            "_model_name": "LayoutModel",
            "_view_count": null,
            "_view_module": "@jupyter-widgets/base",
            "_view_module_version": "1.2.0",
            "_view_name": "LayoutView",
            "align_content": null,
            "align_items": null,
            "align_self": null,
            "border": null,
            "bottom": null,
            "display": null,
            "flex": null,
            "flex_flow": null,
            "grid_area": null,
            "grid_auto_columns": null,
            "grid_auto_flow": null,
            "grid_auto_rows": null,
            "grid_column": null,
            "grid_gap": null,
            "grid_row": null,
            "grid_template_areas": null,
            "grid_template_columns": null,
            "grid_template_rows": null,
            "height": null,
            "justify_content": null,
            "justify_items": null,
            "left": null,
            "margin": null,
            "max_height": null,
            "max_width": null,
            "min_height": null,
            "min_width": null,
            "object_fit": null,
            "object_position": null,
            "order": null,
            "overflow": null,
            "overflow_x": null,
            "overflow_y": null,
            "padding": null,
            "right": null,
            "top": null,
            "visibility": null,
            "width": null
          }
        },
        "bdff2ebcbf484a2980151d9172ac16ca": {
          "model_module": "@jupyter-widgets/base",
          "model_name": "LayoutModel",
          "model_module_version": "1.2.0",
          "state": {
            "_model_module": "@jupyter-widgets/base",
            "_model_module_version": "1.2.0",
            "_model_name": "LayoutModel",
            "_view_count": null,
            "_view_module": "@jupyter-widgets/base",
            "_view_module_version": "1.2.0",
            "_view_name": "LayoutView",
            "align_content": null,
            "align_items": null,
            "align_self": null,
            "border": null,
            "bottom": null,
            "display": null,
            "flex": null,
            "flex_flow": null,
            "grid_area": null,
            "grid_auto_columns": null,
            "grid_auto_flow": null,
            "grid_auto_rows": null,
            "grid_column": null,
            "grid_gap": null,
            "grid_row": null,
            "grid_template_areas": null,
            "grid_template_columns": null,
            "grid_template_rows": null,
            "height": null,
            "justify_content": null,
            "justify_items": null,
            "left": null,
            "margin": null,
            "max_height": null,
            "max_width": null,
            "min_height": null,
            "min_width": null,
            "object_fit": null,
            "object_position": null,
            "order": null,
            "overflow": null,
            "overflow_x": null,
            "overflow_y": null,
            "padding": null,
            "right": null,
            "top": null,
            "visibility": null,
            "width": null
          }
        },
        "853acb99ee2a4ac094fe4644e36c0021": {
          "model_module": "@jupyter-widgets/controls",
          "model_name": "DescriptionStyleModel",
          "model_module_version": "1.5.0",
          "state": {
            "_model_module": "@jupyter-widgets/controls",
            "_model_module_version": "1.5.0",
            "_model_name": "DescriptionStyleModel",
            "_view_count": null,
            "_view_module": "@jupyter-widgets/base",
            "_view_module_version": "1.2.0",
            "_view_name": "StyleView",
            "description_width": ""
          }
        },
        "86769254069c46c98428ae65120de09b": {
          "model_module": "@jupyter-widgets/base",
          "model_name": "LayoutModel",
          "model_module_version": "1.2.0",
          "state": {
            "_model_module": "@jupyter-widgets/base",
            "_model_module_version": "1.2.0",
            "_model_name": "LayoutModel",
            "_view_count": null,
            "_view_module": "@jupyter-widgets/base",
            "_view_module_version": "1.2.0",
            "_view_name": "LayoutView",
            "align_content": null,
            "align_items": null,
            "align_self": null,
            "border": null,
            "bottom": null,
            "display": null,
            "flex": null,
            "flex_flow": null,
            "grid_area": null,
            "grid_auto_columns": null,
            "grid_auto_flow": null,
            "grid_auto_rows": null,
            "grid_column": null,
            "grid_gap": null,
            "grid_row": null,
            "grid_template_areas": null,
            "grid_template_columns": null,
            "grid_template_rows": null,
            "height": null,
            "justify_content": null,
            "justify_items": null,
            "left": null,
            "margin": null,
            "max_height": null,
            "max_width": null,
            "min_height": null,
            "min_width": null,
            "object_fit": null,
            "object_position": null,
            "order": null,
            "overflow": null,
            "overflow_x": null,
            "overflow_y": null,
            "padding": null,
            "right": null,
            "top": null,
            "visibility": null,
            "width": null
          }
        },
        "f34172c2c2e348ae966d73d4844834c4": {
          "model_module": "@jupyter-widgets/controls",
          "model_name": "ProgressStyleModel",
          "model_module_version": "1.5.0",
          "state": {
            "_model_module": "@jupyter-widgets/controls",
            "_model_module_version": "1.5.0",
            "_model_name": "ProgressStyleModel",
            "_view_count": null,
            "_view_module": "@jupyter-widgets/base",
            "_view_module_version": "1.2.0",
            "_view_name": "StyleView",
            "bar_color": null,
            "description_width": ""
          }
        },
        "005a28407b914b668df49ff91c43e41a": {
          "model_module": "@jupyter-widgets/base",
          "model_name": "LayoutModel",
          "model_module_version": "1.2.0",
          "state": {
            "_model_module": "@jupyter-widgets/base",
            "_model_module_version": "1.2.0",
            "_model_name": "LayoutModel",
            "_view_count": null,
            "_view_module": "@jupyter-widgets/base",
            "_view_module_version": "1.2.0",
            "_view_name": "LayoutView",
            "align_content": null,
            "align_items": null,
            "align_self": null,
            "border": null,
            "bottom": null,
            "display": null,
            "flex": null,
            "flex_flow": null,
            "grid_area": null,
            "grid_auto_columns": null,
            "grid_auto_flow": null,
            "grid_auto_rows": null,
            "grid_column": null,
            "grid_gap": null,
            "grid_row": null,
            "grid_template_areas": null,
            "grid_template_columns": null,
            "grid_template_rows": null,
            "height": null,
            "justify_content": null,
            "justify_items": null,
            "left": null,
            "margin": null,
            "max_height": null,
            "max_width": null,
            "min_height": null,
            "min_width": null,
            "object_fit": null,
            "object_position": null,
            "order": null,
            "overflow": null,
            "overflow_x": null,
            "overflow_y": null,
            "padding": null,
            "right": null,
            "top": null,
            "visibility": null,
            "width": null
          }
        },
        "ba16099895524629834e80b9d5f75d48": {
          "model_module": "@jupyter-widgets/controls",
          "model_name": "DescriptionStyleModel",
          "model_module_version": "1.5.0",
          "state": {
            "_model_module": "@jupyter-widgets/controls",
            "_model_module_version": "1.5.0",
            "_model_name": "DescriptionStyleModel",
            "_view_count": null,
            "_view_module": "@jupyter-widgets/base",
            "_view_module_version": "1.2.0",
            "_view_name": "StyleView",
            "description_width": ""
          }
        },
        "9f2ac3234a6d4bd2af7f5d083c57d637": {
          "model_module": "@jupyter-widgets/controls",
          "model_name": "HBoxModel",
          "model_module_version": "1.5.0",
          "state": {
            "_dom_classes": [],
            "_model_module": "@jupyter-widgets/controls",
            "_model_module_version": "1.5.0",
            "_model_name": "HBoxModel",
            "_view_count": null,
            "_view_module": "@jupyter-widgets/controls",
            "_view_module_version": "1.5.0",
            "_view_name": "HBoxView",
            "box_style": "",
            "children": [
              "IPY_MODEL_82c4c73d908b434db54ca69c5890c934",
              "IPY_MODEL_3f220960f5264656ac2033cff193b729",
              "IPY_MODEL_0a1e474b12104329b6d212890aa1b60b"
            ],
            "layout": "IPY_MODEL_dd0a45b16f5f48e0a93f45f06581b642"
          }
        },
        "82c4c73d908b434db54ca69c5890c934": {
          "model_module": "@jupyter-widgets/controls",
          "model_name": "HTMLModel",
          "model_module_version": "1.5.0",
          "state": {
            "_dom_classes": [],
            "_model_module": "@jupyter-widgets/controls",
            "_model_module_version": "1.5.0",
            "_model_name": "HTMLModel",
            "_view_count": null,
            "_view_module": "@jupyter-widgets/controls",
            "_view_module_version": "1.5.0",
            "_view_name": "HTMLView",
            "description": "",
            "description_tooltip": null,
            "layout": "IPY_MODEL_04cd9acbfbd744d2ac9db10247d6ab37",
            "placeholder": "​",
            "style": "IPY_MODEL_d4d01a9118854cefbd60da7e69ee4e2a",
            "value": "Export report to file: 100%"
          }
        },
        "3f220960f5264656ac2033cff193b729": {
          "model_module": "@jupyter-widgets/controls",
          "model_name": "FloatProgressModel",
          "model_module_version": "1.5.0",
          "state": {
            "_dom_classes": [],
            "_model_module": "@jupyter-widgets/controls",
            "_model_module_version": "1.5.0",
            "_model_name": "FloatProgressModel",
            "_view_count": null,
            "_view_module": "@jupyter-widgets/controls",
            "_view_module_version": "1.5.0",
            "_view_name": "ProgressView",
            "bar_style": "success",
            "description": "",
            "description_tooltip": null,
            "layout": "IPY_MODEL_72b8ee5bdd1f42e19652c349ed723e57",
            "max": 1,
            "min": 0,
            "orientation": "horizontal",
            "style": "IPY_MODEL_4d965e27f6034220a8739e8bca9c496c",
            "value": 1
          }
        },
        "0a1e474b12104329b6d212890aa1b60b": {
          "model_module": "@jupyter-widgets/controls",
          "model_name": "HTMLModel",
          "model_module_version": "1.5.0",
          "state": {
            "_dom_classes": [],
            "_model_module": "@jupyter-widgets/controls",
            "_model_module_version": "1.5.0",
            "_model_name": "HTMLModel",
            "_view_count": null,
            "_view_module": "@jupyter-widgets/controls",
            "_view_module_version": "1.5.0",
            "_view_name": "HTMLView",
            "description": "",
            "description_tooltip": null,
            "layout": "IPY_MODEL_3b7569dfdb724b25835b32161c0f8f16",
            "placeholder": "​",
            "style": "IPY_MODEL_4ab7903ffa89410cb47c4ef9cdccd997",
            "value": " 1/1 [00:00&lt;00:00, 39.30it/s]"
          }
        },
        "dd0a45b16f5f48e0a93f45f06581b642": {
          "model_module": "@jupyter-widgets/base",
          "model_name": "LayoutModel",
          "model_module_version": "1.2.0",
          "state": {
            "_model_module": "@jupyter-widgets/base",
            "_model_module_version": "1.2.0",
            "_model_name": "LayoutModel",
            "_view_count": null,
            "_view_module": "@jupyter-widgets/base",
            "_view_module_version": "1.2.0",
            "_view_name": "LayoutView",
            "align_content": null,
            "align_items": null,
            "align_self": null,
            "border": null,
            "bottom": null,
            "display": null,
            "flex": null,
            "flex_flow": null,
            "grid_area": null,
            "grid_auto_columns": null,
            "grid_auto_flow": null,
            "grid_auto_rows": null,
            "grid_column": null,
            "grid_gap": null,
            "grid_row": null,
            "grid_template_areas": null,
            "grid_template_columns": null,
            "grid_template_rows": null,
            "height": null,
            "justify_content": null,
            "justify_items": null,
            "left": null,
            "margin": null,
            "max_height": null,
            "max_width": null,
            "min_height": null,
            "min_width": null,
            "object_fit": null,
            "object_position": null,
            "order": null,
            "overflow": null,
            "overflow_x": null,
            "overflow_y": null,
            "padding": null,
            "right": null,
            "top": null,
            "visibility": null,
            "width": null
          }
        },
        "04cd9acbfbd744d2ac9db10247d6ab37": {
          "model_module": "@jupyter-widgets/base",
          "model_name": "LayoutModel",
          "model_module_version": "1.2.0",
          "state": {
            "_model_module": "@jupyter-widgets/base",
            "_model_module_version": "1.2.0",
            "_model_name": "LayoutModel",
            "_view_count": null,
            "_view_module": "@jupyter-widgets/base",
            "_view_module_version": "1.2.0",
            "_view_name": "LayoutView",
            "align_content": null,
            "align_items": null,
            "align_self": null,
            "border": null,
            "bottom": null,
            "display": null,
            "flex": null,
            "flex_flow": null,
            "grid_area": null,
            "grid_auto_columns": null,
            "grid_auto_flow": null,
            "grid_auto_rows": null,
            "grid_column": null,
            "grid_gap": null,
            "grid_row": null,
            "grid_template_areas": null,
            "grid_template_columns": null,
            "grid_template_rows": null,
            "height": null,
            "justify_content": null,
            "justify_items": null,
            "left": null,
            "margin": null,
            "max_height": null,
            "max_width": null,
            "min_height": null,
            "min_width": null,
            "object_fit": null,
            "object_position": null,
            "order": null,
            "overflow": null,
            "overflow_x": null,
            "overflow_y": null,
            "padding": null,
            "right": null,
            "top": null,
            "visibility": null,
            "width": null
          }
        },
        "d4d01a9118854cefbd60da7e69ee4e2a": {
          "model_module": "@jupyter-widgets/controls",
          "model_name": "DescriptionStyleModel",
          "model_module_version": "1.5.0",
          "state": {
            "_model_module": "@jupyter-widgets/controls",
            "_model_module_version": "1.5.0",
            "_model_name": "DescriptionStyleModel",
            "_view_count": null,
            "_view_module": "@jupyter-widgets/base",
            "_view_module_version": "1.2.0",
            "_view_name": "StyleView",
            "description_width": ""
          }
        },
        "72b8ee5bdd1f42e19652c349ed723e57": {
          "model_module": "@jupyter-widgets/base",
          "model_name": "LayoutModel",
          "model_module_version": "1.2.0",
          "state": {
            "_model_module": "@jupyter-widgets/base",
            "_model_module_version": "1.2.0",
            "_model_name": "LayoutModel",
            "_view_count": null,
            "_view_module": "@jupyter-widgets/base",
            "_view_module_version": "1.2.0",
            "_view_name": "LayoutView",
            "align_content": null,
            "align_items": null,
            "align_self": null,
            "border": null,
            "bottom": null,
            "display": null,
            "flex": null,
            "flex_flow": null,
            "grid_area": null,
            "grid_auto_columns": null,
            "grid_auto_flow": null,
            "grid_auto_rows": null,
            "grid_column": null,
            "grid_gap": null,
            "grid_row": null,
            "grid_template_areas": null,
            "grid_template_columns": null,
            "grid_template_rows": null,
            "height": null,
            "justify_content": null,
            "justify_items": null,
            "left": null,
            "margin": null,
            "max_height": null,
            "max_width": null,
            "min_height": null,
            "min_width": null,
            "object_fit": null,
            "object_position": null,
            "order": null,
            "overflow": null,
            "overflow_x": null,
            "overflow_y": null,
            "padding": null,
            "right": null,
            "top": null,
            "visibility": null,
            "width": null
          }
        },
        "4d965e27f6034220a8739e8bca9c496c": {
          "model_module": "@jupyter-widgets/controls",
          "model_name": "ProgressStyleModel",
          "model_module_version": "1.5.0",
          "state": {
            "_model_module": "@jupyter-widgets/controls",
            "_model_module_version": "1.5.0",
            "_model_name": "ProgressStyleModel",
            "_view_count": null,
            "_view_module": "@jupyter-widgets/base",
            "_view_module_version": "1.2.0",
            "_view_name": "StyleView",
            "bar_color": null,
            "description_width": ""
          }
        },
        "3b7569dfdb724b25835b32161c0f8f16": {
          "model_module": "@jupyter-widgets/base",
          "model_name": "LayoutModel",
          "model_module_version": "1.2.0",
          "state": {
            "_model_module": "@jupyter-widgets/base",
            "_model_module_version": "1.2.0",
            "_model_name": "LayoutModel",
            "_view_count": null,
            "_view_module": "@jupyter-widgets/base",
            "_view_module_version": "1.2.0",
            "_view_name": "LayoutView",
            "align_content": null,
            "align_items": null,
            "align_self": null,
            "border": null,
            "bottom": null,
            "display": null,
            "flex": null,
            "flex_flow": null,
            "grid_area": null,
            "grid_auto_columns": null,
            "grid_auto_flow": null,
            "grid_auto_rows": null,
            "grid_column": null,
            "grid_gap": null,
            "grid_row": null,
            "grid_template_areas": null,
            "grid_template_columns": null,
            "grid_template_rows": null,
            "height": null,
            "justify_content": null,
            "justify_items": null,
            "left": null,
            "margin": null,
            "max_height": null,
            "max_width": null,
            "min_height": null,
            "min_width": null,
            "object_fit": null,
            "object_position": null,
            "order": null,
            "overflow": null,
            "overflow_x": null,
            "overflow_y": null,
            "padding": null,
            "right": null,
            "top": null,
            "visibility": null,
            "width": null
          }
        },
        "4ab7903ffa89410cb47c4ef9cdccd997": {
          "model_module": "@jupyter-widgets/controls",
          "model_name": "DescriptionStyleModel",
          "model_module_version": "1.5.0",
          "state": {
            "_model_module": "@jupyter-widgets/controls",
            "_model_module_version": "1.5.0",
            "_model_name": "DescriptionStyleModel",
            "_view_count": null,
            "_view_module": "@jupyter-widgets/base",
            "_view_module_version": "1.2.0",
            "_view_name": "StyleView",
            "description_width": ""
          }
        }
      }
    }
  },
  "cells": [
    {
      "cell_type": "markdown",
      "source": [
        "## AI5003 - Advance Machine Learning - Assignment No. 1 - Problem 01 - (Regression)\n",
        "## Name: **Muhammad Azhar**\n",
        "## ID: **24K-7606**\n",
        "## Submitted to: **Professor Dr. Muhammad Rafi**"
      ],
      "metadata": {
        "id": "hXK2uysoQ7xt"
      }
    },
    {
      "cell_type": "markdown",
      "source": [
        "Data Loading And Initial Exploration"
      ],
      "metadata": {
        "id": "2nj-AHNeTtrD"
      }
    },
    {
      "cell_type": "code",
      "source": [
        "!pip install ydata-profiling -q"
      ],
      "metadata": {
        "id": "YeRJtdqST93R"
      },
      "execution_count": 10,
      "outputs": []
    },
    {
      "cell_type": "code",
      "execution_count": 86,
      "metadata": {
        "id": "4VS4UE4SKYmk"
      },
      "outputs": [],
      "source": [
        "# Import required libraries\n",
        "import pandas as pd\n",
        "import numpy as np\n",
        "import matplotlib.pyplot as plt\n",
        "import seaborn as sns\n",
        "from ydata_profiling import ProfileReport"
      ]
    },
    {
      "cell_type": "code",
      "source": [
        "df = pd.read_csv(\"dataset for A1P1 startup_funding-dataset.csv\") # Load the dataset"
      ],
      "metadata": {
        "id": "ZtSco5xnMAJb"
      },
      "execution_count": 87,
      "outputs": []
    },
    {
      "cell_type": "code",
      "source": [
        "# Generate a comprehensive profile report\n",
        "profile = ProfileReport(df)\n",
        "profile.to_file(output_file=\"startup-data-analytics.html\")"
      ],
      "metadata": {
        "colab": {
          "base_uri": "https://localhost:8080/",
          "height": 145,
          "referenced_widgets": [
            "255819e9abfd4053a1b6a73ff161b917",
            "c56aa87b432947cfb1e283ca6c18c341",
            "2b28c6803bff49d4b54594bd47179a6e",
            "e612c63b4c6e41cdab854a85fd47d39f",
            "1bcfa48e6c4f40a6a500cf574613344e",
            "867b5c6aa018462a9fc42925248abbf5",
            "67793d916a3940c09e5a336ca332cd10",
            "1c8d466ae0e34b6c95dd5588d6b2f3e6",
            "5384f847efeb49e481b966a16b2ce12d",
            "68cfd8f9f95a4c9d8dc77503a7af5af1",
            "5fd0940a328b4e5b92f1f967d356443c",
            "ed9e3708353a4977b4db9d23c428cfef",
            "2362f581080a4c54ae9fed2103141d13",
            "a92cb55d91ab4793a85c923a5ef71595",
            "31750ccef4fd4d1e9975baa6b20078d6",
            "0e078eb011c34a0a870fca2c26ae1cdd",
            "d039b170243e4d9d8f4c5c62f23da027",
            "4cc7ebc9120f4898a6f7063bb59694e4",
            "24c9ed93f15f4280b1251db10dd0db8c",
            "04c922a19037438f8b473649dcc13b24",
            "78214bf0c8ac455e8fbcdd56849931ea",
            "1985718880ad43c6875b9a2bf9f2002e",
            "d5e620aa54ee4d13ad0b213cf976b56d",
            "532ee95172a24bcb91c621cb3ee5d560",
            "00269133e94e4dc6a0d9a1d640f567b9",
            "13f077b7134d494ca24aa354be559169",
            "f2c67da2f06f4734b847bdd30b4fad2f",
            "bdff2ebcbf484a2980151d9172ac16ca",
            "853acb99ee2a4ac094fe4644e36c0021",
            "86769254069c46c98428ae65120de09b",
            "f34172c2c2e348ae966d73d4844834c4",
            "005a28407b914b668df49ff91c43e41a",
            "ba16099895524629834e80b9d5f75d48",
            "9f2ac3234a6d4bd2af7f5d083c57d637",
            "82c4c73d908b434db54ca69c5890c934",
            "3f220960f5264656ac2033cff193b729",
            "0a1e474b12104329b6d212890aa1b60b",
            "dd0a45b16f5f48e0a93f45f06581b642",
            "04cd9acbfbd744d2ac9db10247d6ab37",
            "d4d01a9118854cefbd60da7e69ee4e2a",
            "72b8ee5bdd1f42e19652c349ed723e57",
            "4d965e27f6034220a8739e8bca9c496c",
            "3b7569dfdb724b25835b32161c0f8f16",
            "4ab7903ffa89410cb47c4ef9cdccd997"
          ]
        },
        "id": "7CDH1stNUDEQ",
        "outputId": "b86066f1-37e8-406f-f933-9b90927ab918"
      },
      "execution_count": 88,
      "outputs": [
        {
          "output_type": "display_data",
          "data": {
            "text/plain": [
              "Summarize dataset:   0%|          | 0/5 [00:00<?, ?it/s]"
            ],
            "application/vnd.jupyter.widget-view+json": {
              "version_major": 2,
              "version_minor": 0,
              "model_id": "255819e9abfd4053a1b6a73ff161b917"
            }
          },
          "metadata": {}
        },
        {
          "output_type": "display_data",
          "data": {
            "text/plain": [
              "Generate report structure:   0%|          | 0/1 [00:00<?, ?it/s]"
            ],
            "application/vnd.jupyter.widget-view+json": {
              "version_major": 2,
              "version_minor": 0,
              "model_id": "ed9e3708353a4977b4db9d23c428cfef"
            }
          },
          "metadata": {}
        },
        {
          "output_type": "display_data",
          "data": {
            "text/plain": [
              "Render HTML:   0%|          | 0/1 [00:00<?, ?it/s]"
            ],
            "application/vnd.jupyter.widget-view+json": {
              "version_major": 2,
              "version_minor": 0,
              "model_id": "d5e620aa54ee4d13ad0b213cf976b56d"
            }
          },
          "metadata": {}
        },
        {
          "output_type": "display_data",
          "data": {
            "text/plain": [
              "Export report to file:   0%|          | 0/1 [00:00<?, ?it/s]"
            ],
            "application/vnd.jupyter.widget-view+json": {
              "version_major": 2,
              "version_minor": 0,
              "model_id": "9f2ac3234a6d4bd2af7f5d083c57d637"
            }
          },
          "metadata": {}
        }
      ]
    },
    {
      "cell_type": "code",
      "source": [
        "df.info() # Display basic information about the dataset"
      ],
      "metadata": {
        "id": "Gkx-SdqOMKQ6",
        "colab": {
          "base_uri": "https://localhost:8080/"
        },
        "outputId": "29bbbf18-eb83-499a-95d9-037356550321"
      },
      "execution_count": 89,
      "outputs": [
        {
          "output_type": "stream",
          "name": "stdout",
          "text": [
            "<class 'pandas.core.frame.DataFrame'>\n",
            "RangeIndex: 2822 entries, 0 to 2821\n",
            "Data columns (total 8 columns):\n",
            " #   Column       Non-Null Count  Dtype  \n",
            "---  ------       --------------  -----  \n",
            " 0   date         2822 non-null   object \n",
            " 1   startup      2822 non-null   object \n",
            " 2   vertical     2822 non-null   object \n",
            " 3   subvertical  2078 non-null   object \n",
            " 4   city         2822 non-null   object \n",
            " 5   investors    2822 non-null   object \n",
            " 6   round        2822 non-null   object \n",
            " 7   amount       2822 non-null   float64\n",
            "dtypes: float64(1), object(7)\n",
            "memory usage: 176.5+ KB\n"
          ]
        }
      ]
    },
    {
      "cell_type": "code",
      "source": [
        "df.head() # Display the first few rows of the dataset"
      ],
      "metadata": {
        "colab": {
          "base_uri": "https://localhost:8080/",
          "height": 206
        },
        "id": "_crUNBt9Nde7",
        "outputId": "d4201244-4e9d-4479-8fb0-699d99bde614"
      },
      "execution_count": 90,
      "outputs": [
        {
          "output_type": "execute_result",
          "data": {
            "text/plain": [
              "        date                       startup             vertical  \\\n",
              "0   9/1/2020                        BYJU’S               E-Tech   \n",
              "1  1/13/2020                        Shuttl       Transportation   \n",
              "2   9/1/2020                     Mamaearth           E-commerce   \n",
              "3   2/1/2020  https://www.wealthbucket.in/              FinTech   \n",
              "4   2/1/2020                        Fashor  Fashion and Apparel   \n",
              "\n",
              "                             subvertical       city  \\\n",
              "0                             E-learning  Bengaluru   \n",
              "1              App based shuttle service    Gurgaon   \n",
              "2  Retailer of baby and toddler products  Bengaluru   \n",
              "3                      Online Investment  New Delhi   \n",
              "4            Embroiled Clothes For Women     Mumbai   \n",
              "\n",
              "                   investors                 round       amount  \n",
              "0    Tiger Global Management  Private Equity Round  1650.000000  \n",
              "1  Susquehanna Growth Equity              Series C    66.399250  \n",
              "2      Sequoia Capital India              Series B   151.460595  \n",
              "3             Vinod Khatumal          Pre-series A    24.750000  \n",
              "4    Sprout Venture Partners            Seed Round    14.850000  "
            ],
            "text/html": [
              "\n",
              "  <div id=\"df-a6c3d028-f945-4468-b072-b28edbc56d00\" class=\"colab-df-container\">\n",
              "    <div>\n",
              "<style scoped>\n",
              "    .dataframe tbody tr th:only-of-type {\n",
              "        vertical-align: middle;\n",
              "    }\n",
              "\n",
              "    .dataframe tbody tr th {\n",
              "        vertical-align: top;\n",
              "    }\n",
              "\n",
              "    .dataframe thead th {\n",
              "        text-align: right;\n",
              "    }\n",
              "</style>\n",
              "<table border=\"1\" class=\"dataframe\">\n",
              "  <thead>\n",
              "    <tr style=\"text-align: right;\">\n",
              "      <th></th>\n",
              "      <th>date</th>\n",
              "      <th>startup</th>\n",
              "      <th>vertical</th>\n",
              "      <th>subvertical</th>\n",
              "      <th>city</th>\n",
              "      <th>investors</th>\n",
              "      <th>round</th>\n",
              "      <th>amount</th>\n",
              "    </tr>\n",
              "  </thead>\n",
              "  <tbody>\n",
              "    <tr>\n",
              "      <th>0</th>\n",
              "      <td>9/1/2020</td>\n",
              "      <td>BYJU’S</td>\n",
              "      <td>E-Tech</td>\n",
              "      <td>E-learning</td>\n",
              "      <td>Bengaluru</td>\n",
              "      <td>Tiger Global Management</td>\n",
              "      <td>Private Equity Round</td>\n",
              "      <td>1650.000000</td>\n",
              "    </tr>\n",
              "    <tr>\n",
              "      <th>1</th>\n",
              "      <td>1/13/2020</td>\n",
              "      <td>Shuttl</td>\n",
              "      <td>Transportation</td>\n",
              "      <td>App based shuttle service</td>\n",
              "      <td>Gurgaon</td>\n",
              "      <td>Susquehanna Growth Equity</td>\n",
              "      <td>Series C</td>\n",
              "      <td>66.399250</td>\n",
              "    </tr>\n",
              "    <tr>\n",
              "      <th>2</th>\n",
              "      <td>9/1/2020</td>\n",
              "      <td>Mamaearth</td>\n",
              "      <td>E-commerce</td>\n",
              "      <td>Retailer of baby and toddler products</td>\n",
              "      <td>Bengaluru</td>\n",
              "      <td>Sequoia Capital India</td>\n",
              "      <td>Series B</td>\n",
              "      <td>151.460595</td>\n",
              "    </tr>\n",
              "    <tr>\n",
              "      <th>3</th>\n",
              "      <td>2/1/2020</td>\n",
              "      <td>https://www.wealthbucket.in/</td>\n",
              "      <td>FinTech</td>\n",
              "      <td>Online Investment</td>\n",
              "      <td>New Delhi</td>\n",
              "      <td>Vinod Khatumal</td>\n",
              "      <td>Pre-series A</td>\n",
              "      <td>24.750000</td>\n",
              "    </tr>\n",
              "    <tr>\n",
              "      <th>4</th>\n",
              "      <td>2/1/2020</td>\n",
              "      <td>Fashor</td>\n",
              "      <td>Fashion and Apparel</td>\n",
              "      <td>Embroiled Clothes For Women</td>\n",
              "      <td>Mumbai</td>\n",
              "      <td>Sprout Venture Partners</td>\n",
              "      <td>Seed Round</td>\n",
              "      <td>14.850000</td>\n",
              "    </tr>\n",
              "  </tbody>\n",
              "</table>\n",
              "</div>\n",
              "    <div class=\"colab-df-buttons\">\n",
              "\n",
              "  <div class=\"colab-df-container\">\n",
              "    <button class=\"colab-df-convert\" onclick=\"convertToInteractive('df-a6c3d028-f945-4468-b072-b28edbc56d00')\"\n",
              "            title=\"Convert this dataframe to an interactive table.\"\n",
              "            style=\"display:none;\">\n",
              "\n",
              "  <svg xmlns=\"http://www.w3.org/2000/svg\" height=\"24px\" viewBox=\"0 -960 960 960\">\n",
              "    <path d=\"M120-120v-720h720v720H120Zm60-500h600v-160H180v160Zm220 220h160v-160H400v160Zm0 220h160v-160H400v160ZM180-400h160v-160H180v160Zm440 0h160v-160H620v160ZM180-180h160v-160H180v160Zm440 0h160v-160H620v160Z\"/>\n",
              "  </svg>\n",
              "    </button>\n",
              "\n",
              "  <style>\n",
              "    .colab-df-container {\n",
              "      display:flex;\n",
              "      gap: 12px;\n",
              "    }\n",
              "\n",
              "    .colab-df-convert {\n",
              "      background-color: #E8F0FE;\n",
              "      border: none;\n",
              "      border-radius: 50%;\n",
              "      cursor: pointer;\n",
              "      display: none;\n",
              "      fill: #1967D2;\n",
              "      height: 32px;\n",
              "      padding: 0 0 0 0;\n",
              "      width: 32px;\n",
              "    }\n",
              "\n",
              "    .colab-df-convert:hover {\n",
              "      background-color: #E2EBFA;\n",
              "      box-shadow: 0px 1px 2px rgba(60, 64, 67, 0.3), 0px 1px 3px 1px rgba(60, 64, 67, 0.15);\n",
              "      fill: #174EA6;\n",
              "    }\n",
              "\n",
              "    .colab-df-buttons div {\n",
              "      margin-bottom: 4px;\n",
              "    }\n",
              "\n",
              "    [theme=dark] .colab-df-convert {\n",
              "      background-color: #3B4455;\n",
              "      fill: #D2E3FC;\n",
              "    }\n",
              "\n",
              "    [theme=dark] .colab-df-convert:hover {\n",
              "      background-color: #434B5C;\n",
              "      box-shadow: 0px 1px 3px 1px rgba(0, 0, 0, 0.15);\n",
              "      filter: drop-shadow(0px 1px 2px rgba(0, 0, 0, 0.3));\n",
              "      fill: #FFFFFF;\n",
              "    }\n",
              "  </style>\n",
              "\n",
              "    <script>\n",
              "      const buttonEl =\n",
              "        document.querySelector('#df-a6c3d028-f945-4468-b072-b28edbc56d00 button.colab-df-convert');\n",
              "      buttonEl.style.display =\n",
              "        google.colab.kernel.accessAllowed ? 'block' : 'none';\n",
              "\n",
              "      async function convertToInteractive(key) {\n",
              "        const element = document.querySelector('#df-a6c3d028-f945-4468-b072-b28edbc56d00');\n",
              "        const dataTable =\n",
              "          await google.colab.kernel.invokeFunction('convertToInteractive',\n",
              "                                                    [key], {});\n",
              "        if (!dataTable) return;\n",
              "\n",
              "        const docLinkHtml = 'Like what you see? Visit the ' +\n",
              "          '<a target=\"_blank\" href=https://colab.research.google.com/notebooks/data_table.ipynb>data table notebook</a>'\n",
              "          + ' to learn more about interactive tables.';\n",
              "        element.innerHTML = '';\n",
              "        dataTable['output_type'] = 'display_data';\n",
              "        await google.colab.output.renderOutput(dataTable, element);\n",
              "        const docLink = document.createElement('div');\n",
              "        docLink.innerHTML = docLinkHtml;\n",
              "        element.appendChild(docLink);\n",
              "      }\n",
              "    </script>\n",
              "  </div>\n",
              "\n",
              "\n",
              "<div id=\"df-626dff9c-ec01-4100-86ae-042ef70636fd\">\n",
              "  <button class=\"colab-df-quickchart\" onclick=\"quickchart('df-626dff9c-ec01-4100-86ae-042ef70636fd')\"\n",
              "            title=\"Suggest charts\"\n",
              "            style=\"display:none;\">\n",
              "\n",
              "<svg xmlns=\"http://www.w3.org/2000/svg\" height=\"24px\"viewBox=\"0 0 24 24\"\n",
              "     width=\"24px\">\n",
              "    <g>\n",
              "        <path d=\"M19 3H5c-1.1 0-2 .9-2 2v14c0 1.1.9 2 2 2h14c1.1 0 2-.9 2-2V5c0-1.1-.9-2-2-2zM9 17H7v-7h2v7zm4 0h-2V7h2v10zm4 0h-2v-4h2v4z\"/>\n",
              "    </g>\n",
              "</svg>\n",
              "  </button>\n",
              "\n",
              "<style>\n",
              "  .colab-df-quickchart {\n",
              "      --bg-color: #E8F0FE;\n",
              "      --fill-color: #1967D2;\n",
              "      --hover-bg-color: #E2EBFA;\n",
              "      --hover-fill-color: #174EA6;\n",
              "      --disabled-fill-color: #AAA;\n",
              "      --disabled-bg-color: #DDD;\n",
              "  }\n",
              "\n",
              "  [theme=dark] .colab-df-quickchart {\n",
              "      --bg-color: #3B4455;\n",
              "      --fill-color: #D2E3FC;\n",
              "      --hover-bg-color: #434B5C;\n",
              "      --hover-fill-color: #FFFFFF;\n",
              "      --disabled-bg-color: #3B4455;\n",
              "      --disabled-fill-color: #666;\n",
              "  }\n",
              "\n",
              "  .colab-df-quickchart {\n",
              "    background-color: var(--bg-color);\n",
              "    border: none;\n",
              "    border-radius: 50%;\n",
              "    cursor: pointer;\n",
              "    display: none;\n",
              "    fill: var(--fill-color);\n",
              "    height: 32px;\n",
              "    padding: 0;\n",
              "    width: 32px;\n",
              "  }\n",
              "\n",
              "  .colab-df-quickchart:hover {\n",
              "    background-color: var(--hover-bg-color);\n",
              "    box-shadow: 0 1px 2px rgba(60, 64, 67, 0.3), 0 1px 3px 1px rgba(60, 64, 67, 0.15);\n",
              "    fill: var(--button-hover-fill-color);\n",
              "  }\n",
              "\n",
              "  .colab-df-quickchart-complete:disabled,\n",
              "  .colab-df-quickchart-complete:disabled:hover {\n",
              "    background-color: var(--disabled-bg-color);\n",
              "    fill: var(--disabled-fill-color);\n",
              "    box-shadow: none;\n",
              "  }\n",
              "\n",
              "  .colab-df-spinner {\n",
              "    border: 2px solid var(--fill-color);\n",
              "    border-color: transparent;\n",
              "    border-bottom-color: var(--fill-color);\n",
              "    animation:\n",
              "      spin 1s steps(1) infinite;\n",
              "  }\n",
              "\n",
              "  @keyframes spin {\n",
              "    0% {\n",
              "      border-color: transparent;\n",
              "      border-bottom-color: var(--fill-color);\n",
              "      border-left-color: var(--fill-color);\n",
              "    }\n",
              "    20% {\n",
              "      border-color: transparent;\n",
              "      border-left-color: var(--fill-color);\n",
              "      border-top-color: var(--fill-color);\n",
              "    }\n",
              "    30% {\n",
              "      border-color: transparent;\n",
              "      border-left-color: var(--fill-color);\n",
              "      border-top-color: var(--fill-color);\n",
              "      border-right-color: var(--fill-color);\n",
              "    }\n",
              "    40% {\n",
              "      border-color: transparent;\n",
              "      border-right-color: var(--fill-color);\n",
              "      border-top-color: var(--fill-color);\n",
              "    }\n",
              "    60% {\n",
              "      border-color: transparent;\n",
              "      border-right-color: var(--fill-color);\n",
              "    }\n",
              "    80% {\n",
              "      border-color: transparent;\n",
              "      border-right-color: var(--fill-color);\n",
              "      border-bottom-color: var(--fill-color);\n",
              "    }\n",
              "    90% {\n",
              "      border-color: transparent;\n",
              "      border-bottom-color: var(--fill-color);\n",
              "    }\n",
              "  }\n",
              "</style>\n",
              "\n",
              "  <script>\n",
              "    async function quickchart(key) {\n",
              "      const quickchartButtonEl =\n",
              "        document.querySelector('#' + key + ' button');\n",
              "      quickchartButtonEl.disabled = true;  // To prevent multiple clicks.\n",
              "      quickchartButtonEl.classList.add('colab-df-spinner');\n",
              "      try {\n",
              "        const charts = await google.colab.kernel.invokeFunction(\n",
              "            'suggestCharts', [key], {});\n",
              "      } catch (error) {\n",
              "        console.error('Error during call to suggestCharts:', error);\n",
              "      }\n",
              "      quickchartButtonEl.classList.remove('colab-df-spinner');\n",
              "      quickchartButtonEl.classList.add('colab-df-quickchart-complete');\n",
              "    }\n",
              "    (() => {\n",
              "      let quickchartButtonEl =\n",
              "        document.querySelector('#df-626dff9c-ec01-4100-86ae-042ef70636fd button');\n",
              "      quickchartButtonEl.style.display =\n",
              "        google.colab.kernel.accessAllowed ? 'block' : 'none';\n",
              "    })();\n",
              "  </script>\n",
              "</div>\n",
              "\n",
              "    </div>\n",
              "  </div>\n"
            ],
            "application/vnd.google.colaboratory.intrinsic+json": {
              "type": "dataframe",
              "variable_name": "df",
              "summary": "{\n  \"name\": \"df\",\n  \"rows\": 2822,\n  \"fields\": [\n    {\n      \"column\": \"date\",\n      \"properties\": {\n        \"dtype\": \"object\",\n        \"num_unique_values\": 957,\n        \"samples\": [\n          \"9/17/2015\",\n          \"1/18/2017\",\n          \"7/28/2017\"\n        ],\n        \"semantic_type\": \"\",\n        \"description\": \"\"\n      }\n    },\n    {\n      \"column\": \"startup\",\n      \"properties\": {\n        \"dtype\": \"string\",\n        \"num_unique_values\": 2299,\n        \"samples\": [\n          \"India Gifts Portal\",\n          \"Tradelab\",\n          \"eshakti\"\n        ],\n        \"semantic_type\": \"\",\n        \"description\": \"\"\n      }\n    },\n    {\n      \"column\": \"vertical\",\n      \"properties\": {\n        \"dtype\": \"category\",\n        \"num_unique_values\": 798,\n        \"samples\": [\n          \"Online Lingerie platform\",\n          \"Parents & Kids Online platform\",\n          \"Automation\"\n        ],\n        \"semantic_type\": \"\",\n        \"description\": \"\"\n      }\n    },\n    {\n      \"column\": \"subvertical\",\n      \"properties\": {\n        \"dtype\": \"string\",\n        \"num_unique_values\": 1917,\n        \"samples\": [\n          \"Cashback & Coupons platform\",\n          \"Fitness centre Discovery & Booking Mobile app\",\n          \"Door Step Delivery platform\"\n        ],\n        \"semantic_type\": \"\",\n        \"description\": \"\"\n      }\n    },\n    {\n      \"column\": \"city\",\n      \"properties\": {\n        \"dtype\": \"category\",\n        \"num_unique_values\": 104,\n        \"samples\": [\n          \"Jaipur\",\n          \"Bangalore/ Bangkok\",\n          \"Agra\"\n        ],\n        \"semantic_type\": \"\",\n        \"description\": \"\"\n      }\n    },\n    {\n      \"column\": \"investors\",\n      \"properties\": {\n        \"dtype\": \"string\",\n        \"num_unique_values\": 2264,\n        \"samples\": [\n          \"Rishi Parti, BrahmaX Ventures\",\n          \"SAIF Partners, India Quotient\",\n          \"Y Combinator, Khosla Ventures, Vy Capital and others\"\n        ],\n        \"semantic_type\": \"\",\n        \"description\": \"\"\n      }\n    },\n    {\n      \"column\": \"round\",\n      \"properties\": {\n        \"dtype\": \"category\",\n        \"num_unique_values\": 49,\n        \"samples\": [\n          \"Debt Funding\",\n          \"Structured Debt\",\n          \"PrivateEquity\"\n        ],\n        \"semantic_type\": \"\",\n        \"description\": \"\"\n      }\n    },\n    {\n      \"column\": \"amount\",\n      \"properties\": {\n        \"dtype\": \"number\",\n        \"std\": 853.4546603465523,\n        \"min\": 0.0,\n        \"max\": 32175.0,\n        \"num_unique_values\": 433,\n        \"samples\": [\n          1130.25,\n          5.775,\n          26.4\n        ],\n        \"semantic_type\": \"\",\n        \"description\": \"\"\n      }\n    }\n  ]\n}"
            }
          },
          "metadata": {},
          "execution_count": 90
        }
      ]
    },
    {
      "cell_type": "markdown",
      "source": [
        "Data cleaning and preprocessing"
      ],
      "metadata": {
        "id": "rHHjN6VAUAXO"
      }
    },
    {
      "cell_type": "code",
      "source": [
        "df.isnull().sum() # Check for missing values"
      ],
      "metadata": {
        "colab": {
          "base_uri": "https://localhost:8080/",
          "height": 335
        },
        "id": "rkn7zGjSNxcy",
        "outputId": "c44aeece-871f-40a1-c34a-17072cff9c2a"
      },
      "execution_count": 91,
      "outputs": [
        {
          "output_type": "execute_result",
          "data": {
            "text/plain": [
              "date             0\n",
              "startup          0\n",
              "vertical         0\n",
              "subvertical    744\n",
              "city             0\n",
              "investors        0\n",
              "round            0\n",
              "amount           0\n",
              "dtype: int64"
            ],
            "text/html": [
              "<div>\n",
              "<style scoped>\n",
              "    .dataframe tbody tr th:only-of-type {\n",
              "        vertical-align: middle;\n",
              "    }\n",
              "\n",
              "    .dataframe tbody tr th {\n",
              "        vertical-align: top;\n",
              "    }\n",
              "\n",
              "    .dataframe thead th {\n",
              "        text-align: right;\n",
              "    }\n",
              "</style>\n",
              "<table border=\"1\" class=\"dataframe\">\n",
              "  <thead>\n",
              "    <tr style=\"text-align: right;\">\n",
              "      <th></th>\n",
              "      <th>0</th>\n",
              "    </tr>\n",
              "  </thead>\n",
              "  <tbody>\n",
              "    <tr>\n",
              "      <th>date</th>\n",
              "      <td>0</td>\n",
              "    </tr>\n",
              "    <tr>\n",
              "      <th>startup</th>\n",
              "      <td>0</td>\n",
              "    </tr>\n",
              "    <tr>\n",
              "      <th>vertical</th>\n",
              "      <td>0</td>\n",
              "    </tr>\n",
              "    <tr>\n",
              "      <th>subvertical</th>\n",
              "      <td>744</td>\n",
              "    </tr>\n",
              "    <tr>\n",
              "      <th>city</th>\n",
              "      <td>0</td>\n",
              "    </tr>\n",
              "    <tr>\n",
              "      <th>investors</th>\n",
              "      <td>0</td>\n",
              "    </tr>\n",
              "    <tr>\n",
              "      <th>round</th>\n",
              "      <td>0</td>\n",
              "    </tr>\n",
              "    <tr>\n",
              "      <th>amount</th>\n",
              "      <td>0</td>\n",
              "    </tr>\n",
              "  </tbody>\n",
              "</table>\n",
              "</div><br><label><b>dtype:</b> int64</label>"
            ]
          },
          "metadata": {},
          "execution_count": 91
        }
      ]
    },
    {
      "cell_type": "code",
      "source": [
        "len(df['startup'].unique()) # Check unique startups to understand dataset size"
      ],
      "metadata": {
        "colab": {
          "base_uri": "https://localhost:8080/"
        },
        "id": "PeIpRGEssrA8",
        "outputId": "561dae3f-847f-43ea-aa5c-e11e9122fd4c"
      },
      "execution_count": 92,
      "outputs": [
        {
          "output_type": "execute_result",
          "data": {
            "text/plain": [
              "2299"
            ]
          },
          "metadata": {},
          "execution_count": 92
        }
      ]
    },
    {
      "cell_type": "code",
      "source": [
        "df = df.drop(['subvertical'],axis=1) # Drop unnecessary columns"
      ],
      "metadata": {
        "id": "H2NYcxMYWCJH"
      },
      "execution_count": 93,
      "outputs": []
    },
    {
      "cell_type": "code",
      "source": [
        "df[df.duplicated(subset=['startup','vertical', 'investors', 'round'], keep=False)] # Check and remove duplicates"
      ],
      "metadata": {
        "colab": {
          "base_uri": "https://localhost:8080/",
          "height": 300
        },
        "id": "sQXnzUaUWZe2",
        "outputId": "afb54be5-fcdf-4491-8744-f5d4b148a7aa"
      },
      "execution_count": 94,
      "outputs": [
        {
          "output_type": "execute_result",
          "data": {
            "text/plain": [
              "           date     startup           vertical       city  \\\n",
              "248   5/14/2018       Nykaa  Consumer Internet     Mumbai   \n",
              "288   4/22/2018       Nykaa  Consumer Internet     Mumbai   \n",
              "695   7/28/2017  BigStylist  Consumer Internet     Mumbai   \n",
              "944   3/21/2017     MyGlamm  Consumer Internet     Mumbai   \n",
              "1325   6/9/2016  BigStylist  Consumer Internet     Mumbai   \n",
              "1627  6/29/2016    LetReach          eCommerce  New Delhi   \n",
              "1726   6/4/2016     MyGlamm  Consumer Internet     Mumbai   \n",
              "1790  4/29/2016    LetReach          eCommerce  New Delhi   \n",
              "\n",
              "                                              investors           round  \\\n",
              "248   Sunil Munjal, Harsh Mariwala, Dalip Pathak and...  Private Equity   \n",
              "288   Sunil Munjal, Harsh Mariwala, Dalip Pathak and...  Private Equity   \n",
              "695                               Info Edge (India) Ltd  Private Equity   \n",
              "944                            L\\\\xe2\\\\x80\\\\x99Occitane  Private Equity   \n",
              "1325                              Info Edge (India) Ltd  Private Equity   \n",
              "1627                                        vCommission  Private Equity   \n",
              "1726                           L\\\\xe2\\\\x80\\\\x99Occitane  Private Equity   \n",
              "1790                                        vCommission  Private Equity   \n",
              "\n",
              "        amount  \n",
              "248   198.0000  \n",
              "288    90.7500  \n",
              "695    10.3125  \n",
              "944    43.7250  \n",
              "1325    7.4250  \n",
              "1627    0.8250  \n",
              "1726   49.5000  \n",
              "1790    0.8250  "
            ],
            "text/html": [
              "\n",
              "  <div id=\"df-efeb5fb5-f507-42ac-a92a-5a76d5975bf7\" class=\"colab-df-container\">\n",
              "    <div>\n",
              "<style scoped>\n",
              "    .dataframe tbody tr th:only-of-type {\n",
              "        vertical-align: middle;\n",
              "    }\n",
              "\n",
              "    .dataframe tbody tr th {\n",
              "        vertical-align: top;\n",
              "    }\n",
              "\n",
              "    .dataframe thead th {\n",
              "        text-align: right;\n",
              "    }\n",
              "</style>\n",
              "<table border=\"1\" class=\"dataframe\">\n",
              "  <thead>\n",
              "    <tr style=\"text-align: right;\">\n",
              "      <th></th>\n",
              "      <th>date</th>\n",
              "      <th>startup</th>\n",
              "      <th>vertical</th>\n",
              "      <th>city</th>\n",
              "      <th>investors</th>\n",
              "      <th>round</th>\n",
              "      <th>amount</th>\n",
              "    </tr>\n",
              "  </thead>\n",
              "  <tbody>\n",
              "    <tr>\n",
              "      <th>248</th>\n",
              "      <td>5/14/2018</td>\n",
              "      <td>Nykaa</td>\n",
              "      <td>Consumer Internet</td>\n",
              "      <td>Mumbai</td>\n",
              "      <td>Sunil Munjal, Harsh Mariwala, Dalip Pathak and...</td>\n",
              "      <td>Private Equity</td>\n",
              "      <td>198.0000</td>\n",
              "    </tr>\n",
              "    <tr>\n",
              "      <th>288</th>\n",
              "      <td>4/22/2018</td>\n",
              "      <td>Nykaa</td>\n",
              "      <td>Consumer Internet</td>\n",
              "      <td>Mumbai</td>\n",
              "      <td>Sunil Munjal, Harsh Mariwala, Dalip Pathak and...</td>\n",
              "      <td>Private Equity</td>\n",
              "      <td>90.7500</td>\n",
              "    </tr>\n",
              "    <tr>\n",
              "      <th>695</th>\n",
              "      <td>7/28/2017</td>\n",
              "      <td>BigStylist</td>\n",
              "      <td>Consumer Internet</td>\n",
              "      <td>Mumbai</td>\n",
              "      <td>Info Edge (India) Ltd</td>\n",
              "      <td>Private Equity</td>\n",
              "      <td>10.3125</td>\n",
              "    </tr>\n",
              "    <tr>\n",
              "      <th>944</th>\n",
              "      <td>3/21/2017</td>\n",
              "      <td>MyGlamm</td>\n",
              "      <td>Consumer Internet</td>\n",
              "      <td>Mumbai</td>\n",
              "      <td>L\\\\xe2\\\\x80\\\\x99Occitane</td>\n",
              "      <td>Private Equity</td>\n",
              "      <td>43.7250</td>\n",
              "    </tr>\n",
              "    <tr>\n",
              "      <th>1325</th>\n",
              "      <td>6/9/2016</td>\n",
              "      <td>BigStylist</td>\n",
              "      <td>Consumer Internet</td>\n",
              "      <td>Mumbai</td>\n",
              "      <td>Info Edge (India) Ltd</td>\n",
              "      <td>Private Equity</td>\n",
              "      <td>7.4250</td>\n",
              "    </tr>\n",
              "    <tr>\n",
              "      <th>1627</th>\n",
              "      <td>6/29/2016</td>\n",
              "      <td>LetReach</td>\n",
              "      <td>eCommerce</td>\n",
              "      <td>New Delhi</td>\n",
              "      <td>vCommission</td>\n",
              "      <td>Private Equity</td>\n",
              "      <td>0.8250</td>\n",
              "    </tr>\n",
              "    <tr>\n",
              "      <th>1726</th>\n",
              "      <td>6/4/2016</td>\n",
              "      <td>MyGlamm</td>\n",
              "      <td>Consumer Internet</td>\n",
              "      <td>Mumbai</td>\n",
              "      <td>L\\\\xe2\\\\x80\\\\x99Occitane</td>\n",
              "      <td>Private Equity</td>\n",
              "      <td>49.5000</td>\n",
              "    </tr>\n",
              "    <tr>\n",
              "      <th>1790</th>\n",
              "      <td>4/29/2016</td>\n",
              "      <td>LetReach</td>\n",
              "      <td>eCommerce</td>\n",
              "      <td>New Delhi</td>\n",
              "      <td>vCommission</td>\n",
              "      <td>Private Equity</td>\n",
              "      <td>0.8250</td>\n",
              "    </tr>\n",
              "  </tbody>\n",
              "</table>\n",
              "</div>\n",
              "    <div class=\"colab-df-buttons\">\n",
              "\n",
              "  <div class=\"colab-df-container\">\n",
              "    <button class=\"colab-df-convert\" onclick=\"convertToInteractive('df-efeb5fb5-f507-42ac-a92a-5a76d5975bf7')\"\n",
              "            title=\"Convert this dataframe to an interactive table.\"\n",
              "            style=\"display:none;\">\n",
              "\n",
              "  <svg xmlns=\"http://www.w3.org/2000/svg\" height=\"24px\" viewBox=\"0 -960 960 960\">\n",
              "    <path d=\"M120-120v-720h720v720H120Zm60-500h600v-160H180v160Zm220 220h160v-160H400v160Zm0 220h160v-160H400v160ZM180-400h160v-160H180v160Zm440 0h160v-160H620v160ZM180-180h160v-160H180v160Zm440 0h160v-160H620v160Z\"/>\n",
              "  </svg>\n",
              "    </button>\n",
              "\n",
              "  <style>\n",
              "    .colab-df-container {\n",
              "      display:flex;\n",
              "      gap: 12px;\n",
              "    }\n",
              "\n",
              "    .colab-df-convert {\n",
              "      background-color: #E8F0FE;\n",
              "      border: none;\n",
              "      border-radius: 50%;\n",
              "      cursor: pointer;\n",
              "      display: none;\n",
              "      fill: #1967D2;\n",
              "      height: 32px;\n",
              "      padding: 0 0 0 0;\n",
              "      width: 32px;\n",
              "    }\n",
              "\n",
              "    .colab-df-convert:hover {\n",
              "      background-color: #E2EBFA;\n",
              "      box-shadow: 0px 1px 2px rgba(60, 64, 67, 0.3), 0px 1px 3px 1px rgba(60, 64, 67, 0.15);\n",
              "      fill: #174EA6;\n",
              "    }\n",
              "\n",
              "    .colab-df-buttons div {\n",
              "      margin-bottom: 4px;\n",
              "    }\n",
              "\n",
              "    [theme=dark] .colab-df-convert {\n",
              "      background-color: #3B4455;\n",
              "      fill: #D2E3FC;\n",
              "    }\n",
              "\n",
              "    [theme=dark] .colab-df-convert:hover {\n",
              "      background-color: #434B5C;\n",
              "      box-shadow: 0px 1px 3px 1px rgba(0, 0, 0, 0.15);\n",
              "      filter: drop-shadow(0px 1px 2px rgba(0, 0, 0, 0.3));\n",
              "      fill: #FFFFFF;\n",
              "    }\n",
              "  </style>\n",
              "\n",
              "    <script>\n",
              "      const buttonEl =\n",
              "        document.querySelector('#df-efeb5fb5-f507-42ac-a92a-5a76d5975bf7 button.colab-df-convert');\n",
              "      buttonEl.style.display =\n",
              "        google.colab.kernel.accessAllowed ? 'block' : 'none';\n",
              "\n",
              "      async function convertToInteractive(key) {\n",
              "        const element = document.querySelector('#df-efeb5fb5-f507-42ac-a92a-5a76d5975bf7');\n",
              "        const dataTable =\n",
              "          await google.colab.kernel.invokeFunction('convertToInteractive',\n",
              "                                                    [key], {});\n",
              "        if (!dataTable) return;\n",
              "\n",
              "        const docLinkHtml = 'Like what you see? Visit the ' +\n",
              "          '<a target=\"_blank\" href=https://colab.research.google.com/notebooks/data_table.ipynb>data table notebook</a>'\n",
              "          + ' to learn more about interactive tables.';\n",
              "        element.innerHTML = '';\n",
              "        dataTable['output_type'] = 'display_data';\n",
              "        await google.colab.output.renderOutput(dataTable, element);\n",
              "        const docLink = document.createElement('div');\n",
              "        docLink.innerHTML = docLinkHtml;\n",
              "        element.appendChild(docLink);\n",
              "      }\n",
              "    </script>\n",
              "  </div>\n",
              "\n",
              "\n",
              "<div id=\"df-12246531-00a1-4796-b2dd-36a1cf5a45ba\">\n",
              "  <button class=\"colab-df-quickchart\" onclick=\"quickchart('df-12246531-00a1-4796-b2dd-36a1cf5a45ba')\"\n",
              "            title=\"Suggest charts\"\n",
              "            style=\"display:none;\">\n",
              "\n",
              "<svg xmlns=\"http://www.w3.org/2000/svg\" height=\"24px\"viewBox=\"0 0 24 24\"\n",
              "     width=\"24px\">\n",
              "    <g>\n",
              "        <path d=\"M19 3H5c-1.1 0-2 .9-2 2v14c0 1.1.9 2 2 2h14c1.1 0 2-.9 2-2V5c0-1.1-.9-2-2-2zM9 17H7v-7h2v7zm4 0h-2V7h2v10zm4 0h-2v-4h2v4z\"/>\n",
              "    </g>\n",
              "</svg>\n",
              "  </button>\n",
              "\n",
              "<style>\n",
              "  .colab-df-quickchart {\n",
              "      --bg-color: #E8F0FE;\n",
              "      --fill-color: #1967D2;\n",
              "      --hover-bg-color: #E2EBFA;\n",
              "      --hover-fill-color: #174EA6;\n",
              "      --disabled-fill-color: #AAA;\n",
              "      --disabled-bg-color: #DDD;\n",
              "  }\n",
              "\n",
              "  [theme=dark] .colab-df-quickchart {\n",
              "      --bg-color: #3B4455;\n",
              "      --fill-color: #D2E3FC;\n",
              "      --hover-bg-color: #434B5C;\n",
              "      --hover-fill-color: #FFFFFF;\n",
              "      --disabled-bg-color: #3B4455;\n",
              "      --disabled-fill-color: #666;\n",
              "  }\n",
              "\n",
              "  .colab-df-quickchart {\n",
              "    background-color: var(--bg-color);\n",
              "    border: none;\n",
              "    border-radius: 50%;\n",
              "    cursor: pointer;\n",
              "    display: none;\n",
              "    fill: var(--fill-color);\n",
              "    height: 32px;\n",
              "    padding: 0;\n",
              "    width: 32px;\n",
              "  }\n",
              "\n",
              "  .colab-df-quickchart:hover {\n",
              "    background-color: var(--hover-bg-color);\n",
              "    box-shadow: 0 1px 2px rgba(60, 64, 67, 0.3), 0 1px 3px 1px rgba(60, 64, 67, 0.15);\n",
              "    fill: var(--button-hover-fill-color);\n",
              "  }\n",
              "\n",
              "  .colab-df-quickchart-complete:disabled,\n",
              "  .colab-df-quickchart-complete:disabled:hover {\n",
              "    background-color: var(--disabled-bg-color);\n",
              "    fill: var(--disabled-fill-color);\n",
              "    box-shadow: none;\n",
              "  }\n",
              "\n",
              "  .colab-df-spinner {\n",
              "    border: 2px solid var(--fill-color);\n",
              "    border-color: transparent;\n",
              "    border-bottom-color: var(--fill-color);\n",
              "    animation:\n",
              "      spin 1s steps(1) infinite;\n",
              "  }\n",
              "\n",
              "  @keyframes spin {\n",
              "    0% {\n",
              "      border-color: transparent;\n",
              "      border-bottom-color: var(--fill-color);\n",
              "      border-left-color: var(--fill-color);\n",
              "    }\n",
              "    20% {\n",
              "      border-color: transparent;\n",
              "      border-left-color: var(--fill-color);\n",
              "      border-top-color: var(--fill-color);\n",
              "    }\n",
              "    30% {\n",
              "      border-color: transparent;\n",
              "      border-left-color: var(--fill-color);\n",
              "      border-top-color: var(--fill-color);\n",
              "      border-right-color: var(--fill-color);\n",
              "    }\n",
              "    40% {\n",
              "      border-color: transparent;\n",
              "      border-right-color: var(--fill-color);\n",
              "      border-top-color: var(--fill-color);\n",
              "    }\n",
              "    60% {\n",
              "      border-color: transparent;\n",
              "      border-right-color: var(--fill-color);\n",
              "    }\n",
              "    80% {\n",
              "      border-color: transparent;\n",
              "      border-right-color: var(--fill-color);\n",
              "      border-bottom-color: var(--fill-color);\n",
              "    }\n",
              "    90% {\n",
              "      border-color: transparent;\n",
              "      border-bottom-color: var(--fill-color);\n",
              "    }\n",
              "  }\n",
              "</style>\n",
              "\n",
              "  <script>\n",
              "    async function quickchart(key) {\n",
              "      const quickchartButtonEl =\n",
              "        document.querySelector('#' + key + ' button');\n",
              "      quickchartButtonEl.disabled = true;  // To prevent multiple clicks.\n",
              "      quickchartButtonEl.classList.add('colab-df-spinner');\n",
              "      try {\n",
              "        const charts = await google.colab.kernel.invokeFunction(\n",
              "            'suggestCharts', [key], {});\n",
              "      } catch (error) {\n",
              "        console.error('Error during call to suggestCharts:', error);\n",
              "      }\n",
              "      quickchartButtonEl.classList.remove('colab-df-spinner');\n",
              "      quickchartButtonEl.classList.add('colab-df-quickchart-complete');\n",
              "    }\n",
              "    (() => {\n",
              "      let quickchartButtonEl =\n",
              "        document.querySelector('#df-12246531-00a1-4796-b2dd-36a1cf5a45ba button');\n",
              "      quickchartButtonEl.style.display =\n",
              "        google.colab.kernel.accessAllowed ? 'block' : 'none';\n",
              "    })();\n",
              "  </script>\n",
              "</div>\n",
              "\n",
              "    </div>\n",
              "  </div>\n"
            ],
            "application/vnd.google.colaboratory.intrinsic+json": {
              "type": "dataframe",
              "repr_error": "0"
            }
          },
          "metadata": {},
          "execution_count": 94
        }
      ]
    },
    {
      "cell_type": "code",
      "source": [
        "df = df.drop_duplicates(subset=['vertical', 'investors', 'round'], keep='first')"
      ],
      "metadata": {
        "id": "NmhRG5kHYDzw"
      },
      "execution_count": 95,
      "outputs": []
    },
    {
      "cell_type": "code",
      "source": [
        "# Standardize city names\n",
        "df['city'] = df['city'].replace({\n",
        "    'Ahemadabad': 'Ahmedabad',\n",
        "    'Ahemdabad': 'Ahmedabad',\n",
        "    'Bengaluru': 'Bangalore',\n",
        "    'Delhi': 'New Delhi',\n",
        "    'Nw Delhi': 'New Delhi',\n",
        "    'India/US': 'US/India',\n",
        "    'USA/India': 'US/India',\n",
        "    'India / US': 'US/India',\n",
        "    'Kolkatta':'Kolkata',\n",
        "    'Missourie': 'Missouri',\n",
        "    'Bhubneswar': 'Bhubaneswar',\n",
        "    'Gurugram': 'Gurgaon'\n",
        "\n",
        "})"
      ],
      "metadata": {
        "id": "bHt0fapkYUZP"
      },
      "execution_count": 96,
      "outputs": []
    },
    {
      "cell_type": "code",
      "source": [
        "df['city'].unique()"
      ],
      "metadata": {
        "colab": {
          "base_uri": "https://localhost:8080/"
        },
        "id": "cs41rH4jYbxv",
        "outputId": "39817a63-e56a-412a-86ce-de6a55a99beb"
      },
      "execution_count": 97,
      "outputs": [
        {
          "output_type": "execute_result",
          "data": {
            "text/plain": [
              "array(['Bangalore', 'Gurgaon', 'New Delhi', 'Mumbai', 'Chennai', 'Pune',\n",
              "       'Noida', 'Faridabad', 'San Francisco', 'San Jose,', 'Amritsar',\n",
              "       'Kormangala', 'Hyderabad', 'Burnsville', 'Menlo Park', 'Palo Alto',\n",
              "       'Santa Monica', 'Singapore', 'Taramani', 'Andheri', 'Chembur',\n",
              "       'Haryana', 'New York', 'Karnataka', 'Mumbai/Bengaluru', 'Bhopal',\n",
              "       'Bengaluru and Gurugram', 'India/Singapore', 'Jaipur', 'US/India',\n",
              "       'Nagpur', 'Indore', 'New York, Bengaluru', 'California', 'India',\n",
              "       'Rourkela', 'Srinagar', 'Bhubaneswar', 'Chandigarh',\n",
              "       'Delhi & Cambridge', 'Kolkata', 'Coimbatore', 'Udaipur',\n",
              "       'Ahmedabad', 'Surat', 'Goa', 'Uttar Pradesh', 'Gaya', 'Vadodara',\n",
              "       'Missouri', 'Panaji', 'Karur', 'Udupi', 'Kochi', 'Agra',\n",
              "       'Bangalore/ Bangkok', 'Hubli', 'Kerala', 'Kozhikode', 'Siliguri',\n",
              "       'USA', 'Lucknow', 'Kanpur', 'Trivandrum', 'SFO / Bangalore',\n",
              "       'London', 'Seattle / Bangalore', 'Pune/Seattle', 'Pune / Dubai',\n",
              "       'Bangalore / SFO', 'New Delhi / US', 'Mumbai / UK',\n",
              "       'Hyderabad/USA', 'Boston', 'Bangalore / Palo Alto', 'Mumbai / NY',\n",
              "       'Gwalior', 'Goa/Hyderabad', 'Noida / Singapore', 'Belgaum',\n",
              "       'Pune / US', 'Chennai/ Singapore', 'Pune / Singapore',\n",
              "       'Bangalore / San Mateo', 'New York/ India', 'Gurgaon / SFO',\n",
              "       'Bangalore / USA', 'New Delhi/ Houston', 'Mumbai / Global',\n",
              "       'New Delhi / California'], dtype=object)"
            ]
          },
          "metadata": {},
          "execution_count": 97
        }
      ]
    },
    {
      "cell_type": "code",
      "source": [
        "# Standardize funding rounds\n",
        "df['round'] = df['round'].replace({\n",
        "    'Seed Round': 'Seed',\n",
        "    'Seed Funding': 'Seed',\n",
        "    'Seed funding': 'Seed',\n",
        "    'Pre-series A': 'Pre-Series A',\n",
        "    'pre-series A': 'Pre-Series A',\n",
        "    'pre-Series A': 'Pre-Series A',\n",
        "    'Venture Round': 'Venture',\n",
        "    'Single Venture': 'Venture',\n",
        "    'Venture - Series Unknown': 'Venture',\n",
        "    'Angel Round': 'Angel',\n",
        "    'Seed/ Angel Funding': 'Angel',\n",
        "    'Seed / Angel Funding': 'Angel',\n",
        "    'Seed/Angel Funding': 'Angel',\n",
        "    'Seed / Angle Funding': 'Angel',\n",
        "    'Angel / Seed Funding': 'Angel',\n",
        "    'Angel Funding': 'Angel',\n",
        "    'Private Equity Round': 'Private Equity',\n",
        "    'PrivateEquity': 'Private Equity',\n",
        "    'Private': 'Private Equity',\n",
        "    'Debt Funding': 'Debt',\n",
        "    'Debt and Preference capital': 'Debt',\n",
        "    'Debt-Funding': 'Debt',\n",
        "    'Structured Debt': 'Debt',\n",
        "    'Term Loan': 'Debt',\n",
        "    'Funding Round': 'Other',\n",
        "    'Corporate Round': 'Other',\n",
        "    'Maiden Round': 'Other',\n",
        "    'Inhouse Funding': 'Other',\n",
        "    'Equity': 'Other',\n",
        "    'Equity Based Funding': 'Other',\n",
        "    'Private Funding': 'Other',\n",
        "    'Mezzanine': 'Other',\n",
        "    'Series B (Extension)': 'Series B'\n",
        "})"
      ],
      "metadata": {
        "id": "Xk-XNHn3epy2"
      },
      "execution_count": 98,
      "outputs": []
    },
    {
      "cell_type": "code",
      "source": [
        "len(df['round'].unique()) #Number of unique funding rounds after standardization"
      ],
      "metadata": {
        "colab": {
          "base_uri": "https://localhost:8080/"
        },
        "id": "H9mYxPOiUyET",
        "outputId": "28043b52-8db0-45d1-a727-c904ef5a1ed7"
      },
      "execution_count": 99,
      "outputs": [
        {
          "output_type": "execute_result",
          "data": {
            "text/plain": [
              "18"
            ]
          },
          "metadata": {},
          "execution_count": 99
        }
      ]
    },
    {
      "cell_type": "code",
      "source": [
        "df['round'].unique()"
      ],
      "metadata": {
        "colab": {
          "base_uri": "https://localhost:8080/"
        },
        "id": "tW_EthD-b48h",
        "outputId": "884d30fb-dc7d-42df-a40c-5fbc3423d964"
      },
      "execution_count": 100,
      "outputs": [
        {
          "output_type": "execute_result",
          "data": {
            "text/plain": [
              "array(['Private Equity', 'Series C', 'Series B', 'Pre-Series A', 'Seed',\n",
              "       'Series A', 'Series D', 'Series F', 'Series E', 'Series G',\n",
              "       'Series H', 'Venture', 'Debt', 'Other', 'Angel', 'Series J',\n",
              "       'Bridge Round', 'Pre Series A'], dtype=object)"
            ]
          },
          "metadata": {},
          "execution_count": 100
        }
      ]
    },
    {
      "cell_type": "code",
      "source": [
        "len(df['vertical'].unique()) # Check and standardize industry verticals"
      ],
      "metadata": {
        "colab": {
          "base_uri": "https://localhost:8080/"
        },
        "id": "wkc-7WrleeTx",
        "outputId": "c4e4b720-6b5e-4291-b620-5f32e27be10c"
      },
      "execution_count": 101,
      "outputs": [
        {
          "output_type": "execute_result",
          "data": {
            "text/plain": [
              "798"
            ]
          },
          "metadata": {},
          "execution_count": 101
        }
      ]
    },
    {
      "cell_type": "code",
      "source": [
        "#Prompt: Create a funtion to standarize the vertical search for a keyword in a vertical and if the keyword math any word then replace it with the keyword\n",
        "\n",
        "def standardize_vertical(vertical):\n",
        "    \"\"\"\n",
        "    Standardizes the 'vertical' column by:\n",
        "    1. Converting to lowercase and removing spaces.\n",
        "    2. Auto-detecting and replacing keywords.\n",
        "    \"\"\"\n",
        "    if not isinstance(vertical, str):\n",
        "        return vertical  # Return if not string\n",
        "\n",
        "    vertical = vertical.lower().strip()\n",
        "\n",
        "    keywords = [\n",
        "        \"health\", \"grocery\", \"ecommerce\", \"finance\", \"food\", \"education\",\n",
        "        \"logistics\", \"real estate\", \"consumer internet\", \"artificial intelligence\",\n",
        "        \"saas\", \"automotive\", \"software\", \"retail\", \"marketing\", \"travel\",\n",
        "        \"energy\", \"hospitality\", \"fitness\", \"gaming\", \"media\", \"hr\",\n",
        "        \"photography\", \"government\", \"events\", \"sports\", \"fashion\"\n",
        "    ]\n",
        "\n",
        "    for keyword in keywords:\n",
        "        if keyword in vertical:\n",
        "            vertical = keyword\n",
        "            break  # Stop after the first match\n",
        "\n",
        "    return vertical\n",
        "\n",
        "df['vertical'] = df['vertical'].apply(standardize_vertical)"
      ],
      "metadata": {
        "id": "6U4cGyw-jTtL"
      },
      "execution_count": 102,
      "outputs": []
    },
    {
      "cell_type": "code",
      "source": [
        "len(df['vertical'].unique()) #Number of unique industry verticals after standardization"
      ],
      "metadata": {
        "colab": {
          "base_uri": "https://localhost:8080/"
        },
        "id": "9qj50qW0jNaE",
        "outputId": "bf8b7bb8-cc2f-42bc-82ac-6246e737cbf8"
      },
      "execution_count": 103,
      "outputs": [
        {
          "output_type": "execute_result",
          "data": {
            "text/plain": [
              "557"
            ]
          },
          "metadata": {},
          "execution_count": 103
        }
      ]
    },
    {
      "cell_type": "code",
      "source": [
        "df['investors'].unique()"
      ],
      "metadata": {
        "colab": {
          "base_uri": "https://localhost:8080/"
        },
        "id": "1t-Yc-6PmzO0",
        "outputId": "e2847dea-2fe5-4386-9396-1e31e0109e1b"
      },
      "execution_count": 104,
      "outputs": [
        {
          "output_type": "execute_result",
          "data": {
            "text/plain": [
              "array(['Tiger Global Management', 'Susquehanna Growth Equity',\n",
              "       'Sequoia Capital India', ...,\n",
              "       'Sumit Jain, Aprameya Radhakrishna, Alok Goel, Rajan Anandan, Amit Agrawal, Vinay Goel, Gaurav Munjal, Ashish Dev Kapur',\n",
              "       'The HR Fund', 'Bessemer Venture Partners, SAIF Partners'],\n",
              "      dtype=object)"
            ]
          },
          "metadata": {},
          "execution_count": 104
        }
      ]
    },
    {
      "cell_type": "code",
      "source": [
        "len(df['investors'].unique())"
      ],
      "metadata": {
        "colab": {
          "base_uri": "https://localhost:8080/"
        },
        "id": "YIsosEFXm3e9",
        "outputId": "ba2fb342-6b16-42d2-ae39-012a10cb2054"
      },
      "execution_count": 105,
      "outputs": [
        {
          "output_type": "execute_result",
          "data": {
            "text/plain": [
              "2264"
            ]
          },
          "metadata": {},
          "execution_count": 105
        }
      ]
    },
    {
      "cell_type": "code",
      "source": [
        "df[\"date\"][1]"
      ],
      "metadata": {
        "colab": {
          "base_uri": "https://localhost:8080/",
          "height": 37
        },
        "id": "9LkJhn5So8N3",
        "outputId": "851bcbb4-3687-4cb1-aa32-6df5e779d2bc"
      },
      "execution_count": 106,
      "outputs": [
        {
          "output_type": "execute_result",
          "data": {
            "text/plain": [
              "'1/13/2020'"
            ],
            "application/vnd.google.colaboratory.intrinsic+json": {
              "type": "string"
            }
          },
          "metadata": {},
          "execution_count": 106
        }
      ]
    },
    {
      "cell_type": "code",
      "source": [
        "#Processing date information\n",
        "df['date'] = pd.to_datetime(df['date'])\n",
        "df['quarter'] = df['date'].dt.quarter\n",
        "df['month'] = df['date'].dt.month\n",
        "df.drop(columns=['date'], inplace=True)"
      ],
      "metadata": {
        "id": "BMbiq4KhpLy_"
      },
      "execution_count": 107,
      "outputs": []
    },
    {
      "cell_type": "markdown",
      "source": [
        "Outlier detection and handling"
      ],
      "metadata": {
        "id": "l06B8B8TVW20"
      }
    },
    {
      "cell_type": "code",
      "source": [
        "df['amount'].describe()"
      ],
      "metadata": {
        "colab": {
          "base_uri": "https://localhost:8080/",
          "height": 335
        },
        "id": "jVyktXenp4vn",
        "outputId": "83bdd331-a184-4cfb-e9cd-6bed034a8e54"
      },
      "execution_count": 108,
      "outputs": [
        {
          "output_type": "execute_result",
          "data": {
            "text/plain": [
              "count     2660.000000\n",
              "mean       110.603368\n",
              "std        878.709621\n",
              "min          0.000000\n",
              "25%          0.000000\n",
              "50%          4.125000\n",
              "75%         36.300000\n",
              "max      32175.000000\n",
              "Name: amount, dtype: float64"
            ],
            "text/html": [
              "<div>\n",
              "<style scoped>\n",
              "    .dataframe tbody tr th:only-of-type {\n",
              "        vertical-align: middle;\n",
              "    }\n",
              "\n",
              "    .dataframe tbody tr th {\n",
              "        vertical-align: top;\n",
              "    }\n",
              "\n",
              "    .dataframe thead th {\n",
              "        text-align: right;\n",
              "    }\n",
              "</style>\n",
              "<table border=\"1\" class=\"dataframe\">\n",
              "  <thead>\n",
              "    <tr style=\"text-align: right;\">\n",
              "      <th></th>\n",
              "      <th>amount</th>\n",
              "    </tr>\n",
              "  </thead>\n",
              "  <tbody>\n",
              "    <tr>\n",
              "      <th>count</th>\n",
              "      <td>2660.000000</td>\n",
              "    </tr>\n",
              "    <tr>\n",
              "      <th>mean</th>\n",
              "      <td>110.603368</td>\n",
              "    </tr>\n",
              "    <tr>\n",
              "      <th>std</th>\n",
              "      <td>878.709621</td>\n",
              "    </tr>\n",
              "    <tr>\n",
              "      <th>min</th>\n",
              "      <td>0.000000</td>\n",
              "    </tr>\n",
              "    <tr>\n",
              "      <th>25%</th>\n",
              "      <td>0.000000</td>\n",
              "    </tr>\n",
              "    <tr>\n",
              "      <th>50%</th>\n",
              "      <td>4.125000</td>\n",
              "    </tr>\n",
              "    <tr>\n",
              "      <th>75%</th>\n",
              "      <td>36.300000</td>\n",
              "    </tr>\n",
              "    <tr>\n",
              "      <th>max</th>\n",
              "      <td>32175.000000</td>\n",
              "    </tr>\n",
              "  </tbody>\n",
              "</table>\n",
              "</div><br><label><b>dtype:</b> float64</label>"
            ]
          },
          "metadata": {},
          "execution_count": 108
        }
      ]
    },
    {
      "cell_type": "code",
      "source": [
        "#Prompt drop 10 minimum and maximum value from df['amount']\n",
        "#Method 1: Remove extreme values (smallest and largest)\n",
        "# Sort the DataFrame by 'amount' in ascending order\n",
        "df_sorted = df.sort_values('amount')\n",
        "\n",
        "# Get indices to drop (10 smallest and 10 largest)\n",
        "indices_to_drop = df_sorted.index[:10].union(df_sorted.index[-10:])\n",
        "\n",
        "# Drop the rows with those indices\n",
        "df = df.drop(indices_to_drop)"
      ],
      "metadata": {
        "id": "S0_VR6bAtaoQ"
      },
      "execution_count": 109,
      "outputs": []
    },
    {
      "cell_type": "code",
      "source": [
        "# Method 2: Use IQR method for more comprehensive outlier removal\n",
        "Q1 = df['amount'].quantile(0.25)\n",
        "Q3 = df['amount'].quantile(0.75)\n",
        "IQR = Q3 - Q1\n",
        "df = df[(df['amount'] >= (Q1 - 1.5 * IQR)) & (df['amount'] <= (Q3 + 1.5 * IQR))]"
      ],
      "metadata": {
        "id": "p3Z4PtIe5e_D"
      },
      "execution_count": 110,
      "outputs": []
    },
    {
      "cell_type": "code",
      "source": [
        "df['amount'] = df['amount'].replace(0, df[df['amount'] > 0]['amount'].median()) # Handle zero amounts by replacing with median\n",
        "df['amount_log'] = np.log1p(df['amount']) # Create log-transformed target for better modeling"
      ],
      "metadata": {
        "id": "DbZzKOBDu9Rn"
      },
      "execution_count": 111,
      "outputs": []
    },
    {
      "cell_type": "markdown",
      "source": [
        "Exploratory Data Analysis and Visualization"
      ],
      "metadata": {
        "id": "f07u9TnRVt-y"
      }
    },
    {
      "cell_type": "code",
      "source": [
        "# Visualize amount distribution with boxplot\n",
        "plt.figure(figsize=(5, 5))\n",
        "sns.boxplot(x=df[\"amount\"], color='green')\n",
        "plt.title(\"Boxplot of Funding Amount\")\n",
        "plt.show()"
      ],
      "metadata": {
        "colab": {
          "base_uri": "https://localhost:8080/",
          "height": 487
        },
        "id": "AazfD3-vt3wJ",
        "outputId": "d1b08fee-bafb-4648-99b2-7e9014fc860f"
      },
      "execution_count": 113,
      "outputs": [
        {
          "output_type": "display_data",
          "data": {
            "text/plain": [
              "<Figure size 500x500 with 1 Axes>"
            ],
            "image/png": "[encoded data removed]"
          },
          "metadata": {}
        }
      ]
    },
    {
      "cell_type": "code",
      "source": [
        "# Histogram of amount\n",
        "tempDF = df[df['amount']>0]\n",
        "plt.figure(figsize=(8, 6))\n",
        "sns.histplot(tempDF['amount'], bins=30, kde=True, color='green')\n",
        "plt.xlabel(\"Amount\")\n",
        "plt.ylabel(\"Frequency\")\n",
        "plt.title(\"Distribution of Amount\")\n",
        "plt.show()"
      ],
      "metadata": {
        "colab": {
          "base_uri": "https://localhost:8080/",
          "height": 564
        },
        "id": "qGsvlenbu5nh",
        "outputId": "b0c20a78-1470-4a89-ddf3-3dda43f8024d"
      },
      "execution_count": 114,
      "outputs": [
        {
          "output_type": "display_data",
          "data": {
            "text/plain": [
              "<Figure size 800x600 with 1 Axes>"
            ],
            "image/png": "[encoded data removed]"
          },
          "metadata": {}
        }
      ]
    },
    {
      "cell_type": "code",
      "source": [
        "# Histogram of log-transformed amount\n",
        "tempDF = df[df['amount_log']>0]\n",
        "plt.figure(figsize=(8, 6))\n",
        "sns.histplot(tempDF['amount_log'], bins=30, kde=True, color='green')\n",
        "plt.xlabel(\"Log(Amount)\")\n",
        "plt.ylabel(\"Frequency\")\n",
        "plt.title(\"Distribution of Log-Transformed Amount\")\n",
        "plt.show()"
      ],
      "metadata": {
        "colab": {
          "base_uri": "https://localhost:8080/",
          "height": 564
        },
        "id": "TAlVg74nwVOX",
        "outputId": "d3ec4638-620c-496b-e9f6-9168d993ff31"
      },
      "execution_count": 115,
      "outputs": [
        {
          "output_type": "display_data",
          "data": {
            "text/plain": [
              "<Figure size 800x600 with 1 Axes>"
            ],
            "image/png": "[encoded data removed]"
          },
          "metadata": {}
        }
      ]
    },
    {
      "cell_type": "code",
      "source": [
        "# Funding amount by round type\n",
        "plt.figure(figsize=(15,8))\n",
        "sns.boxplot(x=\"round\", y=\"amount\", data=df, showfliers=False,color='green')\n",
        "plt.xticks(rotation=45)\n",
        "plt.title(\"Investment Amount by Funding Round\")\n",
        "plt.show()"
      ],
      "metadata": {
        "colab": {
          "base_uri": "https://localhost:8080/",
          "height": 783
        },
        "id": "22U9iLnbW1_U",
        "outputId": "26ae3f9d-b1ba-41f9-ca7b-0d69dbfaaba0"
      },
      "execution_count": 117,
      "outputs": [
        {
          "output_type": "display_data",
          "data": {
            "text/plain": [
              "<Figure size 1500x800 with 1 Axes>"
            ],
            "image/png": "[encoded data removed]"
          },
          "metadata": {}
        }
      ]
    },
    {
      "cell_type": "code",
      "source": [
        "df.head(10)"
      ],
      "metadata": {
        "colab": {
          "base_uri": "https://localhost:8080/",
          "height": 363
        },
        "id": "H2f9oomuu_c5",
        "outputId": "ba78700c-e544-4220-e39d-4cdfbad9dabb"
      },
      "execution_count": 118,
      "outputs": [
        {
          "output_type": "execute_result",
          "data": {
            "text/plain": [
              "                         startup        vertical       city  \\\n",
              "1                         Shuttl  transportation    Gurgaon   \n",
              "3   https://www.wealthbucket.in/         fintech  New Delhi   \n",
              "4                         Fashor         fashion     Mumbai   \n",
              "5                          Pando       logistics    Chennai   \n",
              "7                         Ecozen      technology       Pune   \n",
              "13                         Trell           video  Bangalore   \n",
              "17                       Misters          health    Gurgaon   \n",
              "18  Sunstone Eduversity Pvt. Ltd       education    Gurgaon   \n",
              "19                  Burger Singh            food    Gurgaon   \n",
              "23                   SuperGaming     video games       Pune   \n",
              "\n",
              "                                            investors         round    amount  \\\n",
              "1                           Susquehanna Growth Equity      Series C  66.39925   \n",
              "3                                      Vinod Khatumal  Pre-Series A  24.75000   \n",
              "4                             Sprout Venture Partners          Seed  14.85000   \n",
              "5                                   Chiratae Ventures      Series A  74.25000   \n",
              "7                         Sathguru Catalyzer Advisors      Series A  49.50000   \n",
              "13                                Ruizheng Investment          Seed  16.50000   \n",
              "17                      Sauce.vc, Rainforest Ventures      Series B   4.00950   \n",
              "18  Prime Venture Partners, LetsVenture, PS1 Ventu...          Seed  12.37500   \n",
              "19                                     RB Investments       Venture   8.25000   \n",
              "23                                    Dream Incubator          Seed  10.72500   \n",
              "\n",
              "    quarter  month  amount_log  \n",
              "1         1      1    4.210634  \n",
              "3         1      2    3.248435  \n",
              "4         1      2    2.763170  \n",
              "5         1      1    4.320816  \n",
              "7         4     12    3.921973  \n",
              "13        4     12    2.862201  \n",
              "17        4     11    1.611336  \n",
              "18        4     11    2.593387  \n",
              "19        4     11    2.224624  \n",
              "23        4     12    2.461723  "
            ],
            "text/html": [
              "\n",
              "  <div id=\"df-dace4df5-396b-4517-9832-88e34c7f6b07\" class=\"colab-df-container\">\n",
              "    <div>\n",
              "<style scoped>\n",
              "    .dataframe tbody tr th:only-of-type {\n",
              "        vertical-align: middle;\n",
              "    }\n",
              "\n",
              "    .dataframe tbody tr th {\n",
              "        vertical-align: top;\n",
              "    }\n",
              "\n",
              "    .dataframe thead th {\n",
              "        text-align: right;\n",
              "    }\n",
              "</style>\n",
              "<table border=\"1\" class=\"dataframe\">\n",
              "  <thead>\n",
              "    <tr style=\"text-align: right;\">\n",
              "      <th></th>\n",
              "      <th>startup</th>\n",
              "      <th>vertical</th>\n",
              "      <th>city</th>\n",
              "      <th>investors</th>\n",
              "      <th>round</th>\n",
              "      <th>amount</th>\n",
              "      <th>quarter</th>\n",
              "      <th>month</th>\n",
              "      <th>amount_log</th>\n",
              "    </tr>\n",
              "  </thead>\n",
              "  <tbody>\n",
              "    <tr>\n",
              "      <th>1</th>\n",
              "      <td>Shuttl</td>\n",
              "      <td>transportation</td>\n",
              "      <td>Gurgaon</td>\n",
              "      <td>Susquehanna Growth Equity</td>\n",
              "      <td>Series C</td>\n",
              "      <td>66.39925</td>\n",
              "      <td>1</td>\n",
              "      <td>1</td>\n",
              "      <td>4.210634</td>\n",
              "    </tr>\n",
              "    <tr>\n",
              "      <th>3</th>\n",
              "      <td>https://www.wealthbucket.in/</td>\n",
              "      <td>fintech</td>\n",
              "      <td>New Delhi</td>\n",
              "      <td>Vinod Khatumal</td>\n",
              "      <td>Pre-Series A</td>\n",
              "      <td>24.75000</td>\n",
              "      <td>1</td>\n",
              "      <td>2</td>\n",
              "      <td>3.248435</td>\n",
              "    </tr>\n",
              "    <tr>\n",
              "      <th>4</th>\n",
              "      <td>Fashor</td>\n",
              "      <td>fashion</td>\n",
              "      <td>Mumbai</td>\n",
              "      <td>Sprout Venture Partners</td>\n",
              "      <td>Seed</td>\n",
              "      <td>14.85000</td>\n",
              "      <td>1</td>\n",
              "      <td>2</td>\n",
              "      <td>2.763170</td>\n",
              "    </tr>\n",
              "    <tr>\n",
              "      <th>5</th>\n",
              "      <td>Pando</td>\n",
              "      <td>logistics</td>\n",
              "      <td>Chennai</td>\n",
              "      <td>Chiratae Ventures</td>\n",
              "      <td>Series A</td>\n",
              "      <td>74.25000</td>\n",
              "      <td>1</td>\n",
              "      <td>1</td>\n",
              "      <td>4.320816</td>\n",
              "    </tr>\n",
              "    <tr>\n",
              "      <th>7</th>\n",
              "      <td>Ecozen</td>\n",
              "      <td>technology</td>\n",
              "      <td>Pune</td>\n",
              "      <td>Sathguru Catalyzer Advisors</td>\n",
              "      <td>Series A</td>\n",
              "      <td>49.50000</td>\n",
              "      <td>4</td>\n",
              "      <td>12</td>\n",
              "      <td>3.921973</td>\n",
              "    </tr>\n",
              "    <tr>\n",
              "      <th>13</th>\n",
              "      <td>Trell</td>\n",
              "      <td>video</td>\n",
              "      <td>Bangalore</td>\n",
              "      <td>Ruizheng Investment</td>\n",
              "      <td>Seed</td>\n",
              "      <td>16.50000</td>\n",
              "      <td>4</td>\n",
              "      <td>12</td>\n",
              "      <td>2.862201</td>\n",
              "    </tr>\n",
              "    <tr>\n",
              "      <th>17</th>\n",
              "      <td>Misters</td>\n",
              "      <td>health</td>\n",
              "      <td>Gurgaon</td>\n",
              "      <td>Sauce.vc, Rainforest Ventures</td>\n",
              "      <td>Series B</td>\n",
              "      <td>4.00950</td>\n",
              "      <td>4</td>\n",
              "      <td>11</td>\n",
              "      <td>1.611336</td>\n",
              "    </tr>\n",
              "    <tr>\n",
              "      <th>18</th>\n",
              "      <td>Sunstone Eduversity Pvt. Ltd</td>\n",
              "      <td>education</td>\n",
              "      <td>Gurgaon</td>\n",
              "      <td>Prime Venture Partners, LetsVenture, PS1 Ventu...</td>\n",
              "      <td>Seed</td>\n",
              "      <td>12.37500</td>\n",
              "      <td>4</td>\n",
              "      <td>11</td>\n",
              "      <td>2.593387</td>\n",
              "    </tr>\n",
              "    <tr>\n",
              "      <th>19</th>\n",
              "      <td>Burger Singh</td>\n",
              "      <td>food</td>\n",
              "      <td>Gurgaon</td>\n",
              "      <td>RB Investments</td>\n",
              "      <td>Venture</td>\n",
              "      <td>8.25000</td>\n",
              "      <td>4</td>\n",
              "      <td>11</td>\n",
              "      <td>2.224624</td>\n",
              "    </tr>\n",
              "    <tr>\n",
              "      <th>23</th>\n",
              "      <td>SuperGaming</td>\n",
              "      <td>video games</td>\n",
              "      <td>Pune</td>\n",
              "      <td>Dream Incubator</td>\n",
              "      <td>Seed</td>\n",
              "      <td>10.72500</td>\n",
              "      <td>4</td>\n",
              "      <td>12</td>\n",
              "      <td>2.461723</td>\n",
              "    </tr>\n",
              "  </tbody>\n",
              "</table>\n",
              "</div>\n",
              "    <div class=\"colab-df-buttons\">\n",
              "\n",
              "  <div class=\"colab-df-container\">\n",
              "    <button class=\"colab-df-convert\" onclick=\"convertToInteractive('df-dace4df5-396b-4517-9832-88e34c7f6b07')\"\n",
              "            title=\"Convert this dataframe to an interactive table.\"\n",
              "            style=\"display:none;\">\n",
              "\n",
              "  <svg xmlns=\"http://www.w3.org/2000/svg\" height=\"24px\" viewBox=\"0 -960 960 960\">\n",
              "    <path d=\"M120-120v-720h720v720H120Zm60-500h600v-160H180v160Zm220 220h160v-160H400v160Zm0 220h160v-160H400v160ZM180-400h160v-160H180v160Zm440 0h160v-160H620v160ZM180-180h160v-160H180v160Zm440 0h160v-160H620v160Z\"/>\n",
              "  </svg>\n",
              "    </button>\n",
              "\n",
              "  <style>\n",
              "    .colab-df-container {\n",
              "      display:flex;\n",
              "      gap: 12px;\n",
              "    }\n",
              "\n",
              "    .colab-df-convert {\n",
              "      background-color: #E8F0FE;\n",
              "      border: none;\n",
              "      border-radius: 50%;\n",
              "      cursor: pointer;\n",
              "      display: none;\n",
              "      fill: #1967D2;\n",
              "      height: 32px;\n",
              "      padding: 0 0 0 0;\n",
              "      width: 32px;\n",
              "    }\n",
              "\n",
              "    .colab-df-convert:hover {\n",
              "      background-color: #E2EBFA;\n",
              "      box-shadow: 0px 1px 2px rgba(60, 64, 67, 0.3), 0px 1px 3px 1px rgba(60, 64, 67, 0.15);\n",
              "      fill: #174EA6;\n",
              "    }\n",
              "\n",
              "    .colab-df-buttons div {\n",
              "      margin-bottom: 4px;\n",
              "    }\n",
              "\n",
              "    [theme=dark] .colab-df-convert {\n",
              "      background-color: #3B4455;\n",
              "      fill: #D2E3FC;\n",
              "    }\n",
              "\n",
              "    [theme=dark] .colab-df-convert:hover {\n",
              "      background-color: #434B5C;\n",
              "      box-shadow: 0px 1px 3px 1px rgba(0, 0, 0, 0.15);\n",
              "      filter: drop-shadow(0px 1px 2px rgba(0, 0, 0, 0.3));\n",
              "      fill: #FFFFFF;\n",
              "    }\n",
              "  </style>\n",
              "\n",
              "    <script>\n",
              "      const buttonEl =\n",
              "        document.querySelector('#df-dace4df5-396b-4517-9832-88e34c7f6b07 button.colab-df-convert');\n",
              "      buttonEl.style.display =\n",
              "        google.colab.kernel.accessAllowed ? 'block' : 'none';\n",
              "\n",
              "      async function convertToInteractive(key) {\n",
              "        const element = document.querySelector('#df-dace4df5-396b-4517-9832-88e34c7f6b07');\n",
              "        const dataTable =\n",
              "          await google.colab.kernel.invokeFunction('convertToInteractive',\n",
              "                                                    [key], {});\n",
              "        if (!dataTable) return;\n",
              "\n",
              "        const docLinkHtml = 'Like what you see? Visit the ' +\n",
              "          '<a target=\"_blank\" href=https://colab.research.google.com/notebooks/data_table.ipynb>data table notebook</a>'\n",
              "          + ' to learn more about interactive tables.';\n",
              "        element.innerHTML = '';\n",
              "        dataTable['output_type'] = 'display_data';\n",
              "        await google.colab.output.renderOutput(dataTable, element);\n",
              "        const docLink = document.createElement('div');\n",
              "        docLink.innerHTML = docLinkHtml;\n",
              "        element.appendChild(docLink);\n",
              "      }\n",
              "    </script>\n",
              "  </div>\n",
              "\n",
              "\n",
              "<div id=\"df-d629f0e7-f132-4542-bb0a-a40257b8e61a\">\n",
              "  <button class=\"colab-df-quickchart\" onclick=\"quickchart('df-d629f0e7-f132-4542-bb0a-a40257b8e61a')\"\n",
              "            title=\"Suggest charts\"\n",
              "            style=\"display:none;\">\n",
              "\n",
              "<svg xmlns=\"http://www.w3.org/2000/svg\" height=\"24px\"viewBox=\"0 0 24 24\"\n",
              "     width=\"24px\">\n",
              "    <g>\n",
              "        <path d=\"M19 3H5c-1.1 0-2 .9-2 2v14c0 1.1.9 2 2 2h14c1.1 0 2-.9 2-2V5c0-1.1-.9-2-2-2zM9 17H7v-7h2v7zm4 0h-2V7h2v10zm4 0h-2v-4h2v4z\"/>\n",
              "    </g>\n",
              "</svg>\n",
              "  </button>\n",
              "\n",
              "<style>\n",
              "  .colab-df-quickchart {\n",
              "      --bg-color: #E8F0FE;\n",
              "      --fill-color: #1967D2;\n",
              "      --hover-bg-color: #E2EBFA;\n",
              "      --hover-fill-color: #174EA6;\n",
              "      --disabled-fill-color: #AAA;\n",
              "      --disabled-bg-color: #DDD;\n",
              "  }\n",
              "\n",
              "  [theme=dark] .colab-df-quickchart {\n",
              "      --bg-color: #3B4455;\n",
              "      --fill-color: #D2E3FC;\n",
              "      --hover-bg-color: #434B5C;\n",
              "      --hover-fill-color: #FFFFFF;\n",
              "      --disabled-bg-color: #3B4455;\n",
              "      --disabled-fill-color: #666;\n",
              "  }\n",
              "\n",
              "  .colab-df-quickchart {\n",
              "    background-color: var(--bg-color);\n",
              "    border: none;\n",
              "    border-radius: 50%;\n",
              "    cursor: pointer;\n",
              "    display: none;\n",
              "    fill: var(--fill-color);\n",
              "    height: 32px;\n",
              "    padding: 0;\n",
              "    width: 32px;\n",
              "  }\n",
              "\n",
              "  .colab-df-quickchart:hover {\n",
              "    background-color: var(--hover-bg-color);\n",
              "    box-shadow: 0 1px 2px rgba(60, 64, 67, 0.3), 0 1px 3px 1px rgba(60, 64, 67, 0.15);\n",
              "    fill: var(--button-hover-fill-color);\n",
              "  }\n",
              "\n",
              "  .colab-df-quickchart-complete:disabled,\n",
              "  .colab-df-quickchart-complete:disabled:hover {\n",
              "    background-color: var(--disabled-bg-color);\n",
              "    fill: var(--disabled-fill-color);\n",
              "    box-shadow: none;\n",
              "  }\n",
              "\n",
              "  .colab-df-spinner {\n",
              "    border: 2px solid var(--fill-color);\n",
              "    border-color: transparent;\n",
              "    border-bottom-color: var(--fill-color);\n",
              "    animation:\n",
              "      spin 1s steps(1) infinite;\n",
              "  }\n",
              "\n",
              "  @keyframes spin {\n",
              "    0% {\n",
              "      border-color: transparent;\n",
              "      border-bottom-color: var(--fill-color);\n",
              "      border-left-color: var(--fill-color);\n",
              "    }\n",
              "    20% {\n",
              "      border-color: transparent;\n",
              "      border-left-color: var(--fill-color);\n",
              "      border-top-color: var(--fill-color);\n",
              "    }\n",
              "    30% {\n",
              "      border-color: transparent;\n",
              "      border-left-color: var(--fill-color);\n",
              "      border-top-color: var(--fill-color);\n",
              "      border-right-color: var(--fill-color);\n",
              "    }\n",
              "    40% {\n",
              "      border-color: transparent;\n",
              "      border-right-color: var(--fill-color);\n",
              "      border-top-color: var(--fill-color);\n",
              "    }\n",
              "    60% {\n",
              "      border-color: transparent;\n",
              "      border-right-color: var(--fill-color);\n",
              "    }\n",
              "    80% {\n",
              "      border-color: transparent;\n",
              "      border-right-color: var(--fill-color);\n",
              "      border-bottom-color: var(--fill-color);\n",
              "    }\n",
              "    90% {\n",
              "      border-color: transparent;\n",
              "      border-bottom-color: var(--fill-color);\n",
              "    }\n",
              "  }\n",
              "</style>\n",
              "\n",
              "  <script>\n",
              "    async function quickchart(key) {\n",
              "      const quickchartButtonEl =\n",
              "        document.querySelector('#' + key + ' button');\n",
              "      quickchartButtonEl.disabled = true;  // To prevent multiple clicks.\n",
              "      quickchartButtonEl.classList.add('colab-df-spinner');\n",
              "      try {\n",
              "        const charts = await google.colab.kernel.invokeFunction(\n",
              "            'suggestCharts', [key], {});\n",
              "      } catch (error) {\n",
              "        console.error('Error during call to suggestCharts:', error);\n",
              "      }\n",
              "      quickchartButtonEl.classList.remove('colab-df-spinner');\n",
              "      quickchartButtonEl.classList.add('colab-df-quickchart-complete');\n",
              "    }\n",
              "    (() => {\n",
              "      let quickchartButtonEl =\n",
              "        document.querySelector('#df-d629f0e7-f132-4542-bb0a-a40257b8e61a button');\n",
              "      quickchartButtonEl.style.display =\n",
              "        google.colab.kernel.accessAllowed ? 'block' : 'none';\n",
              "    })();\n",
              "  </script>\n",
              "</div>\n",
              "\n",
              "    </div>\n",
              "  </div>\n"
            ],
            "application/vnd.google.colaboratory.intrinsic+json": {
              "type": "dataframe",
              "variable_name": "df",
              "summary": "{\n  \"name\": \"df\",\n  \"rows\": 2266,\n  \"fields\": [\n    {\n      \"column\": \"startup\",\n      \"properties\": {\n        \"dtype\": \"string\",\n        \"num_unique_values\": 1940,\n        \"samples\": [\n          \"BolRealty\",\n          \"Casa2inns\",\n          \"Roposo\"\n        ],\n        \"semantic_type\": \"\",\n        \"description\": \"\"\n      }\n    },\n    {\n      \"column\": \"vertical\",\n      \"properties\": {\n        \"dtype\": \"category\",\n        \"num_unique_values\": 483,\n        \"samples\": [\n          \"hyperlocal services marketplace\",\n          \"usiness expense management\",\n          \"multi-sport program for preschoolers\"\n        ],\n        \"semantic_type\": \"\",\n        \"description\": \"\"\n      }\n    },\n    {\n      \"column\": \"city\",\n      \"properties\": {\n        \"dtype\": \"category\",\n        \"num_unique_values\": 76,\n        \"samples\": [\n          \"Pune\",\n          \"Surat\",\n          \"Kormangala\"\n        ],\n        \"semantic_type\": \"\",\n        \"description\": \"\"\n      }\n    },\n    {\n      \"column\": \"investors\",\n      \"properties\": {\n        \"dtype\": \"string\",\n        \"num_unique_values\": 1916,\n        \"samples\": [\n          \"Sumit Jain\",\n          \"Infosys\",\n          \"Times Internet,Matrix Partners\"\n        ],\n        \"semantic_type\": \"\",\n        \"description\": \"\"\n      }\n    },\n    {\n      \"column\": \"round\",\n      \"properties\": {\n        \"dtype\": \"category\",\n        \"num_unique_values\": 14,\n        \"samples\": [\n          \"Series J\",\n          \"Bridge Round\",\n          \"Series C\"\n        ],\n        \"semantic_type\": \"\",\n        \"description\": \"\"\n      }\n    },\n    {\n      \"column\": \"amount\",\n      \"properties\": {\n        \"dtype\": \"number\",\n        \"std\": 18.21654208673158,\n        \"min\": 0.1485,\n        \"max\": 84.15,\n        \"num_unique_values\": 290,\n        \"samples\": [\n          4.41375,\n          0.9075,\n          3.3\n        ],\n        \"semantic_type\": \"\",\n        \"description\": \"\"\n      }\n    },\n    {\n      \"column\": \"quarter\",\n      \"properties\": {\n        \"dtype\": \"int32\",\n        \"num_unique_values\": 4,\n        \"samples\": [\n          4,\n          3,\n          1\n        ],\n        \"semantic_type\": \"\",\n        \"description\": \"\"\n      }\n    },\n    {\n      \"column\": \"month\",\n      \"properties\": {\n        \"dtype\": \"int32\",\n        \"num_unique_values\": 12,\n        \"samples\": [\n          6,\n          9,\n          1\n        ],\n        \"semantic_type\": \"\",\n        \"description\": \"\"\n      }\n    },\n    {\n      \"column\": \"amount_log\",\n      \"properties\": {\n        \"dtype\": \"number\",\n        \"std\": 0.9199104717274541,\n        \"min\": 0.1384567431470159,\n        \"max\": 4.444414407108697,\n        \"num_unique_values\": 290,\n        \"samples\": [\n          1.6889420135466995,\n          0.645793484176475,\n          1.4586150226995167\n        ],\n        \"semantic_type\": \"\",\n        \"description\": \"\"\n      }\n    }\n  ]\n}"
            }
          },
          "metadata": {},
          "execution_count": 118
        }
      ]
    },
    {
      "cell_type": "markdown",
      "source": [
        "Model Building And Evaluation"
      ],
      "metadata": {
        "id": "qw-nobW7XBpj"
      }
    },
    {
      "cell_type": "code",
      "source": [
        "from sklearn.model_selection import train_test_split, cross_val_score\n",
        "from sklearn.linear_model import LinearRegression, Ridge, Lasso\n",
        "from sklearn.ensemble import RandomForestRegressor, GradientBoostingRegressor\n",
        "from sklearn.tree import DecisionTreeRegressor\n",
        "from sklearn.svm import SVR\n",
        "from sklearn.metrics import mean_squared_error, r2_score, mean_absolute_error\n",
        "from sklearn.preprocessing import OneHotEncoder, StandardScaler\n",
        "from sklearn.pipeline import Pipeline\n",
        "from sklearn.compose import ColumnTransformer"
      ],
      "metadata": {
        "id": "ck9bEcLeyX7g"
      },
      "execution_count": 119,
      "outputs": []
    },
    {
      "cell_type": "code",
      "source": [
        "# Feature selection and preprocessing\n",
        "categorical_features = ['vertical', 'city', 'round']\n",
        "numerical_features = ['quarter', 'month']\n",
        "target = 'amount'"
      ],
      "metadata": {
        "id": "9dJ1vLXJXSx7"
      },
      "execution_count": 120,
      "outputs": []
    },
    {
      "cell_type": "code",
      "source": [
        "# Prepare feature transformers\n",
        "categorical_transformer = Pipeline(steps=[\n",
        "    ('onehot', OneHotEncoder(handle_unknown='ignore'))\n",
        "])\n",
        "\n",
        "numerical_transformer = Pipeline(steps=[\n",
        "    ('scaler', StandardScaler())\n",
        "])"
      ],
      "metadata": {
        "id": "195XuEqKXXpi"
      },
      "execution_count": 121,
      "outputs": []
    },
    {
      "cell_type": "code",
      "source": [
        "# Combine transformers into a preprocessing pipeline\n",
        "preprocessor = ColumnTransformer(\n",
        "    transformers=[\n",
        "        ('cat', categorical_transformer, categorical_features),\n",
        "        ('num', numerical_transformer, numerical_features)\n",
        "    ])"
      ],
      "metadata": {
        "id": "VCl-BPjOXfM6"
      },
      "execution_count": 122,
      "outputs": []
    },
    {
      "cell_type": "code",
      "source": [
        "# Split data into features and target\n",
        "X = df[categorical_features + numerical_features]\n",
        "y = df[target]\n",
        "\n",
        "# Split into training and testing sets (80% training, 20% testing)\n",
        "X_train, X_test, y_train, y_test = train_test_split(X, y, test_size=0.2, random_state=42)\n",
        "print(f\"\\nTraining set size: {X_train.shape[0]} samples\")\n",
        "print(f\"Testing set size: {X_test.shape[0]} samples\")"
      ],
      "metadata": {
        "colab": {
          "base_uri": "https://localhost:8080/"
        },
        "id": "fPr8e38YXjlr",
        "outputId": "aed3c8eb-2fc7-49c0-c980-9133bcd3509c"
      },
      "execution_count": 123,
      "outputs": [
        {
          "output_type": "stream",
          "name": "stdout",
          "text": [
            "\n",
            "Training set size: 1812 samples\n",
            "Testing set size: 454 samples\n"
          ]
        }
      ]
    },
    {
      "cell_type": "code",
      "source": [
        "#Prompt: Apply Linear,Ridge,Lasso, Decision tree , Random Forest, Gradient Boosting and SVR on this startup funding dataset\n",
        "# Initialize multiple regression models for comparison\n",
        "models = {\n",
        "    'Linear Regression': LinearRegression(),\n",
        "    'Ridge Regression': Ridge(alpha=1.0),\n",
        "    'Lasso Regression': Lasso(alpha=0.1),\n",
        "    'Decision Tree': DecisionTreeRegressor(random_state=42),\n",
        "    'Random Forest': RandomForestRegressor(n_estimators=100, random_state=42),\n",
        "    'Gradient Boosting': GradientBoostingRegressor(n_estimators=100, random_state=42),\n",
        "    'SVR': SVR(kernel='rbf', C=100, epsilon=0.1)\n",
        "}"
      ],
      "metadata": {
        "id": "AI91aVEOXuHL"
      },
      "execution_count": 124,
      "outputs": []
    },
    {
      "cell_type": "code",
      "source": [
        "# Function to evaluate models with comprehensive metrics\n",
        "def evaluate_model(model, X_train, X_test, y_train, y_test):\n",
        "    pipeline = Pipeline(steps=[\n",
        "        ('preprocessor', preprocessor),\n",
        "        ('model', model)\n",
        "    ])\n",
        "\n",
        "    # Train the model\n",
        "    pipeline.fit(X_train, y_train)\n",
        "\n",
        "    # Make predictions\n",
        "    y_pred = pipeline.predict(X_test)\n",
        "\n",
        "    # Evaluate using multiple metrics\n",
        "    mse = mean_squared_error(y_test, y_pred)\n",
        "    rmse = np.sqrt(mse)\n",
        "    mae = mean_absolute_error(y_test, y_pred)\n",
        "    r2 = r2_score(y_test, y_pred)\n",
        "\n",
        "    return {\n",
        "        'MSE': mse,\n",
        "        'RMSE': rmse,\n",
        "        'MAE': mae,\n",
        "        'R²': r2,\n",
        "        'predictions': y_pred,\n",
        "        'pipeline': pipeline\n",
        "    }"
      ],
      "metadata": {
        "id": "w0SwcTmAX30a"
      },
      "execution_count": 125,
      "outputs": []
    },
    {
      "cell_type": "markdown",
      "source": [
        "Model training and evaluation on original scale"
      ],
      "metadata": {
        "id": "_Bqne7rtX-A1"
      }
    },
    {
      "cell_type": "code",
      "source": [
        "results = {}\n",
        "for name, model in models.items():\n",
        "    print(f\"\\nEvaluating {name}...\")\n",
        "    results[name] = evaluate_model(model, X_train, X_test, y_train, y_test)\n",
        "    print(f\"MSE: {results[name]['MSE']:.2f}\")\n",
        "    print(f\"RMSE: {results[name]['RMSE']:.2f}\")\n",
        "    print(f\"MAE: {results[name]['MAE']:.2f}\")\n",
        "    print(f\"R²: {results[name]['R²']:.2f}\")\n",
        "\n",
        "# Compare model performances\n",
        "print(\"\\nModel Performance Comparison:\")\n",
        "performance_df = pd.DataFrame({\n",
        "    model: {\n",
        "        'MSE': results[model]['MSE'],\n",
        "        'RMSE': results[model]['RMSE'],\n",
        "        'MAE': results[model]['MAE'],\n",
        "        'R²': results[model]['R²']\n",
        "    }\n",
        "    for model in models.keys()\n",
        "}).T\n",
        "\n",
        "print(performance_df)\n",
        "\n",
        "# Find the best model based on R²\n",
        "best_model = performance_df['R²'].idxmax()\n",
        "print(f\"\\nBest performing model: {best_model} with R² of {performance_df.loc[best_model, 'R²']:.2f}\")\n",
        "\n",
        "# Cross-validation for the best model\n",
        "best_pipeline = results[best_model]['pipeline']\n",
        "cv_scores = cross_val_score(best_pipeline, X, y, cv=5, scoring='r2')\n",
        "print(f\"\\nCross-validation R² scores for {best_model}: {cv_scores}\")\n",
        "print(f\"Mean CV R²: {np.mean(cv_scores):.2f}, Std Dev: {np.std(cv_scores):.2f}\")"
      ],
      "metadata": {
        "colab": {
          "base_uri": "https://localhost:8080/"
        },
        "id": "9_JAQpCFYQNi",
        "outputId": "713bc2de-4b5e-4d50-af89-497d70fb013d"
      },
      "execution_count": 126,
      "outputs": [
        {
          "output_type": "stream",
          "name": "stdout",
          "text": [
            "\n",
            "Evaluating Linear Regression...\n",
            "MSE: 223.94\n",
            "RMSE: 14.96\n",
            "MAE: 9.86\n",
            "R²: 0.29\n",
            "\n",
            "Evaluating Ridge Regression...\n",
            "MSE: 219.50\n",
            "RMSE: 14.82\n",
            "MAE: 9.63\n",
            "R²: 0.30\n",
            "\n",
            "Evaluating Lasso Regression...\n",
            "MSE: 214.93\n",
            "RMSE: 14.66\n",
            "MAE: 9.18\n",
            "R²: 0.32\n",
            "\n",
            "Evaluating Decision Tree...\n",
            "MSE: 329.82\n",
            "RMSE: 18.16\n",
            "MAE: 10.25\n",
            "R²: -0.05\n",
            "\n",
            "Evaluating Random Forest...\n",
            "MSE: 255.16\n",
            "RMSE: 15.97\n",
            "MAE: 9.31\n",
            "R²: 0.19\n",
            "\n",
            "Evaluating Gradient Boosting...\n",
            "MSE: 217.58\n",
            "RMSE: 14.75\n",
            "MAE: 9.07\n",
            "R²: 0.31\n",
            "\n",
            "Evaluating SVR...\n",
            "MSE: 265.09\n",
            "RMSE: 16.28\n",
            "MAE: 9.53\n",
            "R²: 0.16\n",
            "\n",
            "Model Performance Comparison:\n",
            "                          MSE       RMSE        MAE        R²\n",
            "Linear Regression  223.935388  14.964471   9.856574  0.289365\n",
            "Ridge Regression   219.498109  14.815469   9.634260  0.303446\n",
            "Lasso Regression   214.932123  14.660564   9.180588  0.317936\n",
            "Decision Tree      329.819210  18.160925  10.254712 -0.046646\n",
            "Random Forest      255.161957  15.973790   9.309805  0.190271\n",
            "Gradient Boosting  217.577265  14.750501   9.066251  0.309542\n",
            "SVR                265.090948  16.281614   9.529533  0.158762\n",
            "\n",
            "Best performing model: Lasso Regression with R² of 0.32\n",
            "\n",
            "Cross-validation R² scores for Lasso Regression: [0.08128494 0.31626729 0.08809539 0.26014563 0.33056961]\n",
            "Mean CV R²: 0.22, Std Dev: 0.11\n"
          ]
        }
      ]
    },
    {
      "cell_type": "markdown",
      "source": [
        "Model visualization and interpretation"
      ],
      "metadata": {
        "id": "OfiSnAxtYV7C"
      }
    },
    {
      "cell_type": "code",
      "source": [
        "# Visualize actual vs predicted values for the best model\n",
        "plt.figure(figsize=(10, 6))\n",
        "plt.scatter(y_test, results[best_model]['predictions'], alpha=0.7,color='green')\n",
        "plt.plot([y_test.min(), y_test.max()], [y_test.min(), y_test.max()], 'r--', )\n",
        "plt.xlabel('Actual Amount')\n",
        "plt.ylabel('Predicted Amount')\n",
        "plt.title(f'Actual vs Predicted Amount ({best_model})')\n",
        "plt.show()"
      ],
      "metadata": {
        "colab": {
          "base_uri": "https://localhost:8080/",
          "height": 564
        },
        "id": "IfQe4o3rYZPZ",
        "outputId": "a73b179a-f85c-4fb6-bfd1-edf2117b3b55"
      },
      "execution_count": 82,
      "outputs": [
        {
          "output_type": "display_data",
          "data": {
            "text/plain": [
              "<Figure size 1000x600 with 1 Axes>"
            ],
            "image/png": "[encoded data removed]"
          },
          "metadata": {}
        }
      ]
    },
    {
      "cell_type": "code",
      "source": [
        "# Plot residuals to analyze model performance (THIS WAS MISSING in original code)\n",
        "y_pred = results[best_model]['predictions']\n",
        "residuals = y_test - y_pred\n",
        "\n",
        "plt.figure(figsize=(10, 6))\n",
        "plt.scatter(y_pred, residuals, alpha=0.7,color='green')\n",
        "plt.axhline(y=0, color='r', linestyle='--')\n",
        "plt.xlabel('Predicted Values')\n",
        "plt.ylabel('Residuals')\n",
        "plt.title(f'Residual Plot for {best_model}')\n",
        "plt.show()"
      ],
      "metadata": {
        "colab": {
          "base_uri": "https://localhost:8080/",
          "height": 564
        },
        "id": "zBCOvri1zAus",
        "outputId": "d24ff53a-dca2-403e-a658-827a7784e78a"
      },
      "execution_count": 83,
      "outputs": [
        {
          "output_type": "display_data",
          "data": {
            "text/plain": [
              "<Figure size 1000x600 with 1 Axes>"
            ],
            "image/png": "[encoded data removed]"
          },
          "metadata": {}
        }
      ]
    },
    {
      "cell_type": "code",
      "source": [
        "# Histogram of residuals\n",
        "plt.figure(figsize=(10, 6))\n",
        "plt.hist(residuals, bins=30, alpha=0.7, color='green', edgecolor='black')\n",
        "plt.axvline(x=0, color='r', linestyle='--')\n",
        "plt.xlabel('Residuals')\n",
        "plt.ylabel('Frequency')\n",
        "plt.title(f'Distribution of Residuals for {best_model}')\n",
        "plt.show()"
      ],
      "metadata": {
        "colab": {
          "base_uri": "https://localhost:8080/",
          "height": 564
        },
        "id": "9Onp8cEa1Cak",
        "outputId": "5835ecc3-bdb5-41e8-88e5-35f6d6f6082c"
      },
      "execution_count": 84,
      "outputs": [
        {
          "output_type": "display_data",
          "data": {
            "text/plain": [
              "<Figure size 1000x600 with 1 Axes>"
            ],
            "image/png": "[encoded data removed]"
          },
          "metadata": {}
        }
      ]
    },
    {
      "cell_type": "code",
      "source": [
        "# Get feature importance regardless of model type\n",
        "print(\"\\nExtracting feature importance information...\")\n",
        "\n",
        "# First get feature names after preprocessing\n",
        "cat_features = best_pipeline.named_steps['preprocessor'].transformers_[0][1].named_steps['onehot'].get_feature_names_out(categorical_features)\n",
        "all_features = list(cat_features) + numerical_features\n",
        "\n",
        "# Get feature importance based on model type\n",
        "if best_model in ['Decision Tree', 'Random Forest', 'Gradient Boosting']:\n",
        "    # Direct feature importance for tree-based models\n",
        "    importances = best_pipeline.named_steps['model'].feature_importances_\n",
        "    feature_importance_df = pd.DataFrame({\n",
        "        'Feature': all_features,\n",
        "        'Importance': importances\n",
        "    }).sort_values(by='Importance', ascending=False)\n",
        "    importance_title = f'Feature Importance ({best_model})'\n",
        "\n",
        "elif best_model in ['Linear Regression', 'Ridge Regression', 'Lasso Regression']:\n",
        "    # For linear models, use coefficients as importance\n",
        "    coefficients = best_pipeline.named_steps['model'].coef_\n",
        "    # Take absolute values for importance ranking\n",
        "    importances = np.abs(coefficients)\n",
        "    feature_importance_df = pd.DataFrame({\n",
        "        'Feature': all_features,\n",
        "        'Importance': importances\n",
        "    }).sort_values(by='Importance', ascending=False)\n",
        "    importance_title = f'Feature Coefficients ({best_model})'\n",
        "\n",
        "else:\n",
        "    # For SVR or other models without direct feature importance\n",
        "    # Use permutation importance\n",
        "    from sklearn.inspection import permutation_importance\n",
        "\n",
        "    # Preprocess the data first\n",
        "    X_test_transformed = best_pipeline.named_steps['preprocessor'].transform(X_test)\n",
        "\n",
        "    # Calculate permutation importance\n",
        "    perm_importance = permutation_importance(\n",
        "        best_pipeline.named_steps['model'], X_test_transformed, y_test, n_repeats=10, random_state=42\n",
        "    )\n",
        "\n",
        "    # Create feature importance DataFrame\n",
        "    feature_importance_df = pd.DataFrame({\n",
        "        'Feature': all_features,\n",
        "        'Importance': perm_importance.importances_mean\n",
        "    }).sort_values(by='Importance', ascending=False)\n",
        "\n",
        "    importance_title = f'Permutation Feature Importance ({best_model})'\n",
        "\n",
        "# Plot feature importances\n",
        "plt.figure(figsize=(12, 6))\n",
        "sns.barplot(x='Importance', y='Feature', data=feature_importance_df.head(10) , color='green')\n",
        "plt.title(f'Top 10 {importance_title}')\n",
        "plt.tight_layout()\n",
        "plt.savefig('feature_importance.png')\n",
        "plt.show()"
      ],
      "metadata": {
        "id": "TFztQVOa-SxI",
        "colab": {
          "base_uri": "https://localhost:8080/",
          "height": 642
        },
        "outputId": "1ba25f34-cdf3-4151-9deb-7ceaf324e42f"
      },
      "execution_count": 127,
      "outputs": [
        {
          "output_type": "stream",
          "name": "stdout",
          "text": [
            "\n",
            "Extracting feature importance information...\n"
          ]
        },
        {
          "output_type": "display_data",
          "data": {
            "text/plain": [
              "<Figure size 1200x600 with 1 Axes>"
            ],
            "image/png": "[encoded data removed]"
          },
          "metadata": {}
        }
      ]
    },
    {
      "cell_type": "markdown",
      "source": [
        "Log-transformed model training and evaluation"
      ],
      "metadata": {
        "id": "9r_811DldpPL"
      }
    },
    {
      "cell_type": "code",
      "source": [
        "# Define target as logarithmic amount\n",
        "y_log = df['amount_log']\n",
        "\n",
        "# Split data for log-transformed target\n",
        "X_train_log, X_test_log, y_train_log, y_test_log = train_test_split(X, y_log, test_size=0.2, random_state=42)\n",
        "\n",
        "# Evaluate models with log-transformed target\n",
        "log_results = {}\n",
        "for name, model in models.items():\n",
        "    print(f\"\\nEvaluating {name} on log-transformed target...\")\n",
        "    log_results[name] = evaluate_model(model, X_train_log, X_test_log, y_train_log, y_test_log)\n",
        "    print(f\"MSE: {log_results[name]['MSE']:.2f}\")\n",
        "    print(f\"RMSE: {log_results[name]['RMSE']:.2f}\")\n",
        "    print(f\"MAE: {log_results[name]['MAE']:.2f}\")\n",
        "    print(f\"R²: {log_results[name]['R²']:.2f}\")\n",
        "\n",
        "# Compare model performances on log-transformed target\n",
        "log_performance_df = pd.DataFrame({\n",
        "    model: {\n",
        "        'MSE': log_results[model]['MSE'],\n",
        "        'RMSE': log_results[model]['RMSE'],\n",
        "        'MAE': log_results[model]['MAE'],\n",
        "        'R²': log_results[model]['R²']\n",
        "    }\n",
        "    for model in models.keys()\n",
        "}).T\n",
        "\n",
        "print(\"\\nModel Performance Comparison (Log-transformed target):\")\n",
        "print(log_performance_df)\n",
        "\n",
        "# Find the best model based on R² for log-transformed target\n",
        "best_log_model = log_performance_df['R²'].idxmax()\n",
        "print(f\"\\nBest performing model on log-transformed target: {best_log_model} with R² of {log_performance_df.loc[best_log_model, 'R²']:.2f}\")"
      ],
      "metadata": {
        "colab": {
          "base_uri": "https://localhost:8080/"
        },
        "id": "G7z7dkx_YsDV",
        "outputId": "6e40d473-46ce-4621-ac01-944f0a69e3b5"
      },
      "execution_count": 64,
      "outputs": [
        {
          "output_type": "stream",
          "name": "stdout",
          "text": [
            "\n",
            "Evaluating Linear Regression on log-transformed target...\n",
            "MSE: 0.53\n",
            "RMSE: 0.73\n",
            "MAE: 0.62\n",
            "R²: 0.37\n",
            "\n",
            "Evaluating Ridge Regression on log-transformed target...\n",
            "MSE: 0.52\n",
            "RMSE: 0.72\n",
            "MAE: 0.61\n",
            "R²: 0.38\n",
            "\n",
            "Evaluating Lasso Regression on log-transformed target...\n",
            "MSE: 0.60\n",
            "RMSE: 0.77\n",
            "MAE: 0.60\n",
            "R²: 0.30\n",
            "\n",
            "Evaluating Decision Tree on log-transformed target...\n",
            "MSE: 0.78\n",
            "RMSE: 0.88\n",
            "MAE: 0.67\n",
            "R²: 0.08\n",
            "\n",
            "Evaluating Random Forest on log-transformed target...\n",
            "MSE: 0.60\n",
            "RMSE: 0.78\n",
            "MAE: 0.62\n",
            "R²: 0.29\n",
            "\n",
            "Evaluating Gradient Boosting on log-transformed target...\n",
            "MSE: 0.52\n",
            "RMSE: 0.72\n",
            "MAE: 0.61\n",
            "R²: 0.39\n",
            "\n",
            "Evaluating SVR on log-transformed target...\n",
            "MSE: 0.75\n",
            "RMSE: 0.87\n",
            "MAE: 0.69\n",
            "R²: 0.11\n",
            "\n",
            "Model Performance Comparison (Log-transformed target):\n",
            "                        MSE      RMSE       MAE        R²\n",
            "Linear Regression  0.528435  0.726935  0.616836  0.374808\n",
            "Ridge Regression   0.522890  0.723111  0.614164  0.381369\n",
            "Lasso Regression   0.595327  0.771575  0.603695  0.295668\n",
            "Decision Tree      0.779988  0.883169  0.666468  0.077196\n",
            "Random Forest      0.601532  0.775585  0.615016  0.288327\n",
            "Gradient Boosting  0.516811  0.718896  0.607724  0.388560\n",
            "SVR                0.754545  0.868646  0.685697  0.107297\n",
            "\n",
            "Best performing model on log-transformed target: Gradient Boosting with R² of 0.39\n"
          ]
        }
      ]
    },
    {
      "cell_type": "markdown",
      "source": [
        "Visualization and back-transformation"
      ],
      "metadata": {
        "id": "SwOPNoFzdxfg"
      }
    },
    {
      "cell_type": "code",
      "source": [
        "# Visualize actual vs predicted log values\n",
        "plt.figure(figsize=(10, 6))\n",
        "plt.scatter(y_test_log, log_results[best_log_model]['predictions'], alpha=0.7,color='green')\n",
        "plt.plot([y_test_log.min(), y_test_log.max()], [y_test_log.min(), y_test_log.max()], 'r--')\n",
        "plt.xlabel('Actual log(Amount)')\n",
        "plt.ylabel('Predicted log(Amount)')\n",
        "plt.title(f'Actual vs Predicted log(Amount) ({best_log_model})')\n",
        "plt.savefig('actual_vs_predicted_log.png')\n",
        "plt.show()\n"
      ],
      "metadata": {
        "colab": {
          "base_uri": "https://localhost:8080/",
          "height": 564
        },
        "id": "aJTRHmUrdt97",
        "outputId": "d81298ab-160f-4a83-cd4f-442c422d2621"
      },
      "execution_count": 128,
      "outputs": [
        {
          "output_type": "display_data",
          "data": {
            "text/plain": [
              "<Figure size 1000x600 with 1 Axes>"
            ],
            "image/png": "[encoded data removed]"
          },
          "metadata": {}
        }
      ]
    },
    {
      "cell_type": "code",
      "source": [
        "# Plot residuals for log model\n",
        "log_y_pred = log_results[best_log_model]['predictions']\n",
        "log_residuals = y_test_log - log_y_pred\n",
        "\n",
        "plt.figure(figsize=(10, 6))\n",
        "plt.scatter(log_y_pred, log_residuals, alpha=0.7,color='green')\n",
        "plt.axhline(y=0, color='r', linestyle='--')\n",
        "plt.xlabel('Predicted Log Values')\n",
        "plt.ylabel('Residuals')\n",
        "plt.title(f'Residual Plot for {best_log_model} (Log Scale)')\n",
        "plt.savefig('log_residual_plot.png')\n",
        "plt.show()"
      ],
      "metadata": {
        "colab": {
          "base_uri": "https://localhost:8080/",
          "height": 564
        },
        "id": "syY6Hemlhv_6",
        "outputId": "515f9a57-66a7-459e-8fa5-aba040321c51"
      },
      "execution_count": 129,
      "outputs": [
        {
          "output_type": "display_data",
          "data": {
            "text/plain": [
              "<Figure size 1000x600 with 1 Axes>"
            ],
            "image/png": "[encoded data removed]"
          },
          "metadata": {}
        }
      ]
    },
    {
      "cell_type": "code",
      "source": [
        "# Convert log predictions back to original scale and evaluate\n",
        "y_test_orig = np.expm1(y_test_log)\n",
        "y_pred_orig = np.expm1(log_results[best_log_model]['predictions'])\n",
        "\n",
        "# Calculate metrics in original scale\n",
        "mse_orig = mean_squared_error(y_test_orig, y_pred_orig)\n",
        "rmse_orig = np.sqrt(mse_orig)\n",
        "mae_orig = mean_absolute_error(y_test_orig, y_pred_orig)\n",
        "r2_orig = r2_score(y_test_orig, y_pred_orig)\n",
        "\n",
        "print(\"\\nPerformance of best log model in original scale:\")\n",
        "print(f\"MSE: {mse_orig:.2f}\")\n",
        "print(f\"RMSE: {rmse_orig:.2f}\")\n",
        "print(f\"MAE: {mae_orig:.2f}\")\n",
        "print(f\"R²: {r2_orig:.2f}\")"
      ],
      "metadata": {
        "colab": {
          "base_uri": "https://localhost:8080/"
        },
        "id": "1RxWycJ9hycW",
        "outputId": "da7659fb-1698-4d1c-cfd5-ac208c532743"
      },
      "execution_count": 69,
      "outputs": [
        {
          "output_type": "stream",
          "name": "stdout",
          "text": [
            "\n",
            "Performance of best log model in original scale:\n",
            "MSE: 244.86\n",
            "RMSE: 15.65\n",
            "MAE: 8.83\n",
            "R²: 0.22\n"
          ]
        }
      ]
    },
    {
      "cell_type": "markdown",
      "source": [
        "Conclusion and Model Selection"
      ],
      "metadata": {
        "id": "PfKwLTDTfgMi"
      }
    },
    {
      "cell_type": "code",
      "source": [
        "print(f\"\\n1. For predicting the exact amount, the best model is: {best_model}\")\n",
        "print(f\"   with R² of {performance_df.loc[best_model, 'R²']:.4f}\")\n",
        "\n",
        "print(f\"\\n2. For predicting the logarithm of the amount (which is more suitable for this data), \")\n",
        "print(f\"   the best model is: {best_log_model}\")\n",
        "print(f\"   with R² of {log_performance_df.loc[best_log_model, 'R²']:.4f}\")"
      ],
      "metadata": {
        "colab": {
          "base_uri": "https://localhost:8080/"
        },
        "id": "y764eV1Cd4MC",
        "outputId": "1acb606b-46f8-42fb-e033-1d50d6be9e41"
      },
      "execution_count": 71,
      "outputs": [
        {
          "output_type": "stream",
          "name": "stdout",
          "text": [
            "\n",
            "1. For predicting the exact amount, the best model is: Lasso Regression\n",
            "   with R² of 0.3179\n",
            "\n",
            "2. For predicting the logarithm of the amount (which is more suitable for this data), \n",
            "   the best model is: Gradient Boosting\n",
            "   with R² of 0.3886\n"
          ]
        }
      ]
    },
    {
      "cell_type": "code",
      "source": [
        "#Prompt Help me write report on the above results"
      ],
      "metadata": {
        "id": "ir_nXxN9kI5d"
      },
      "execution_count": 72,
      "outputs": []
    },
    {
      "cell_type": "markdown",
      "source": [
        "# Startup Funding Prediction Model: Interpretation and Reporting\n",
        "\n",
        "## Key Findings\n",
        "\n",
        "1. **Model Performance**:\n",
        "   - Original scale: Lasso Regression performed best (R² = 0.32)\n",
        "   - Log-transformed scale: Gradient Boosting performed best (R² = 0.39)\n",
        "   - Log transformation improved model performance, suggesting funding amounts follow a log-normal distribution\n",
        "\n",
        "2. **Most Influential Predictors**:\n",
        "   - **Funding Round Type**: The strongest predictor of funding amount (Seed rounds: 19.38%, Angel rounds: 16.24%)\n",
        "   - **Industry Vertical**: Finance (6.02%) and logistics (5.47%) sectors attract significantly higher funding\n",
        "   - **Location**: Startups in Bangalore (2.31%) receive higher funding amounts\n",
        "   - **Timing**: The quarter of funding has minimal impact (0.18%)\n",
        "\n",
        "3. **Model Stability**:\n",
        "   - Cross-validation shows moderate variability (R² from 0.08 to 0.33)\n",
        "   - Mean CV R² of 0.22 indicates reasonable but not exceptional predictive power\n",
        "\n",
        "## Conclusion\n",
        "\n",
        "The analysis reveals that startup funding amounts are moderately predictable (explaining ~39% of variance) when using a log-transformed approach. The funding round type is the dominant factor in determining investment size, with seed and angel rounds showing distinct patterns. Industry vertical also plays a significant role, with finance and logistics attracting higher investments.\n",
        "\n",
        "For practical applications, the Gradient Boosting model with log-transformation is recommended for predicting funding amounts. The model's performance suggests that while certain factors can be quantified, substantial variability in startup funding remains unexplained by the available features, likely due to qualitative factors such as founding team experience, market conditions, and investor relationships not captured in the dataset."
      ],
      "metadata": {
        "id": "MH_wrJ0mjepm"
      }
    }
  ]
}